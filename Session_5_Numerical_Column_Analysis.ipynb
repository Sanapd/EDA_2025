{
 "cells": [
  {
   "cell_type": "code",
   "execution_count": 1,
   "id": "c84f494c-d93c-4cb7-a1cc-d91df9ac0202",
   "metadata": {},
   "outputs": [],
   "source": [
    "# Import packages\n",
    "# Read the data\n",
    "# Convert cat and numerical columns\n",
    "# read prevailing_wage data\n",
    "# wage_data=visa_df[col]\n",
    "# count= len(wage_data)\n",
    "# min = np.min\n",
    "# max = np.max\n",
    "# mean = np.mean\n",
    "# meadian= np.median\n",
    "# 25p= np.percentile()\n",
    "# 50p= np.\n",
    "# 750"
   ]
  },
  {
   "cell_type": "code",
   "execution_count": 3,
   "id": "560968ac-2ee1-4757-959d-85c8be04bd33",
   "metadata": {},
   "outputs": [],
   "source": [
    "import pandas as pd\n",
    "import numpy as np\n",
    "import matplotlib.pyplot as plt\n",
    "import seaborn as sns"
   ]
  },
  {
   "cell_type": "code",
   "execution_count": 7,
   "id": "43c28fff-9e93-4036-82d9-4cb5311f91e3",
   "metadata": {},
   "outputs": [],
   "source": [
    "visa_df=pd.read_csv(r'C:\\Users\\HP\\Documents\\NARESHIT\\visadataset.csv')"
   ]
  },
  {
   "cell_type": "code",
   "execution_count": 9,
   "id": "f16cf7cd-b8b2-47d5-90fe-779b98aa83b5",
   "metadata": {},
   "outputs": [
    {
     "data": {
      "text/plain": [
       "(Index(['case_id', 'continent', 'education_of_employee', 'has_job_experience',\n",
       "        'requires_job_training', 'region_of_employment', 'unit_of_wage',\n",
       "        'full_time_position', 'case_status'],\n",
       "       dtype='object'),\n",
       " Index(['no_of_employees', 'yr_of_estab', 'prevailing_wage'], dtype='object'))"
      ]
     },
     "execution_count": 9,
     "metadata": {},
     "output_type": "execute_result"
    }
   ],
   "source": [
    "cat=visa_df.select_dtypes(include='object').columns\n",
    "num=visa_df.select_dtypes(exclude='object').columns\n",
    "cat,num"
   ]
  },
  {
   "cell_type": "code",
   "execution_count": 11,
   "id": "5dfd80d1-7bce-41db-81a8-40bbc93b01eb",
   "metadata": {},
   "outputs": [
    {
     "data": {
      "text/plain": [
       "0           592.2029\n",
       "1         83425.6500\n",
       "2        122996.8600\n",
       "3         83434.0300\n",
       "4        149907.3900\n",
       "            ...     \n",
       "25475     77092.5700\n",
       "25476    279174.7900\n",
       "25477    146298.8500\n",
       "25478     86154.7700\n",
       "25479     70876.9100\n",
       "Name: prevailing_wage, Length: 25480, dtype: float64"
      ]
     },
     "execution_count": 11,
     "metadata": {},
     "output_type": "execute_result"
    }
   ],
   "source": [
    "wage_data=visa_df['prevailing_wage']\n",
    "wage_data"
   ]
  },
  {
   "cell_type": "code",
   "execution_count": 17,
   "id": "621de1ed-04d3-475a-ab63-1ffe51d85ab0",
   "metadata": {},
   "outputs": [
    {
     "name": "stdout",
     "output_type": "stream",
     "text": [
      "25480\n",
      "2.1367\n",
      "319210.27\n",
      "74455.81459209183\n",
      "70308.20999999999\n"
     ]
    }
   ],
   "source": [
    "# count\n",
    "count=len(wage_data)\n",
    "print(count)\n",
    "\n",
    "# min\n",
    "Min=np.min(wage_data)\n",
    "Min=wage_data.min()\n",
    "print(Min)\n",
    "\n",
    "# max\n",
    "Max=np.max(wage_data)\n",
    "Max=wage_data.max()\n",
    "print(Max)\n",
    "\n",
    "# Mean\n",
    "Mean=np.mean(wage_data)\n",
    "Mean=wage_data.mean()\n",
    "print(Mean)\n",
    "\n",
    "# Median\n",
    "Median=np.median(wage_data)\n",
    "Median=wage_data.median()\n",
    "print(Median)\n"
   ]
  },
  {
   "cell_type": "code",
   "execution_count": 19,
   "id": "b3debd28-304e-4338-8f60-3883b521cdda",
   "metadata": {},
   "outputs": [
    {
     "ename": "TypeError",
     "evalue": "'Min' is an invalid keyword argument for print()",
     "output_type": "error",
     "traceback": [
      "\u001b[1;31m---------------------------------------------------------------------------\u001b[0m",
      "\u001b[1;31mTypeError\u001b[0m                                 Traceback (most recent call last)",
      "Cell \u001b[1;32mIn[19], line 2\u001b[0m\n\u001b[0;32m      1\u001b[0m count\u001b[38;5;241m=\u001b[39m\u001b[38;5;28mlen\u001b[39m(wage_data)\n\u001b[1;32m----> 2\u001b[0m \u001b[38;5;28mprint\u001b[39m(Min\u001b[38;5;241m=\u001b[39m\u001b[38;5;28mround\u001b[39m(np\u001b[38;5;241m.\u001b[39mmin(wage_data),\u001b[38;5;241m2\u001b[39m))\n\u001b[0;32m      3\u001b[0m \u001b[38;5;28mprint\u001b[39m(Max\u001b[38;5;241m=\u001b[39m\u001b[38;5;28mround\u001b[39m(np\u001b[38;5;241m.\u001b[39mmax(wage_data),\u001b[38;5;241m2\u001b[39m))\n\u001b[0;32m      4\u001b[0m \u001b[38;5;28mprint\u001b[39m(Mean\u001b[38;5;241m=\u001b[39m\u001b[38;5;28mround\u001b[39m(np\u001b[38;5;241m.\u001b[39mmean(wage_data),\u001b[38;5;241m2\u001b[39m))\n",
      "\u001b[1;31mTypeError\u001b[0m: 'Min' is an invalid keyword argument for print()"
     ]
    }
   ],
   "source": [
    "count=len(wage_data)\n",
    "print(Min=round(np.min(wage_data),2))\n",
    "print(Max=round(np.max(wage_data),2))\n",
    "print(Mean=round(np.mean(wage_data),2))\n",
    "print(Median=round(np.median(wage_data),2))\n",
    "print(p_20=round(np.percentile(wage_data,25),2))\n",
    "print(p_50=round(np.percentile(wage_data,50),2))\n",
    "print(p_75=round(np.percentile(wage_data,75),2))"
   ]
  },
  {
   "cell_type": "code",
   "execution_count": 21,
   "id": "becf40a4-59d6-4a21-957c-689b7d708e82",
   "metadata": {},
   "outputs": [
    {
     "data": {
      "text/html": [
       "<div>\n",
       "<style scoped>\n",
       "    .dataframe tbody tr th:only-of-type {\n",
       "        vertical-align: middle;\n",
       "    }\n",
       "\n",
       "    .dataframe tbody tr th {\n",
       "        vertical-align: top;\n",
       "    }\n",
       "\n",
       "    .dataframe thead th {\n",
       "        text-align: right;\n",
       "    }\n",
       "</style>\n",
       "<table border=\"1\" class=\"dataframe\">\n",
       "  <thead>\n",
       "    <tr style=\"text-align: right;\">\n",
       "      <th></th>\n",
       "      <th>prevailing_wage</th>\n",
       "    </tr>\n",
       "  </thead>\n",
       "  <tbody>\n",
       "    <tr>\n",
       "      <th>count</th>\n",
       "      <td>25480.00</td>\n",
       "    </tr>\n",
       "    <tr>\n",
       "      <th>Min</th>\n",
       "      <td>2.14</td>\n",
       "    </tr>\n",
       "    <tr>\n",
       "      <th>P_20</th>\n",
       "      <td>34015.48</td>\n",
       "    </tr>\n",
       "    <tr>\n",
       "      <th>Mean</th>\n",
       "      <td>74455.81</td>\n",
       "    </tr>\n",
       "    <tr>\n",
       "      <th>Median</th>\n",
       "      <td>70308.21</td>\n",
       "    </tr>\n",
       "    <tr>\n",
       "      <th>p_50</th>\n",
       "      <td>70308.21</td>\n",
       "    </tr>\n",
       "    <tr>\n",
       "      <th>p_75</th>\n",
       "      <td>107735.51</td>\n",
       "    </tr>\n",
       "    <tr>\n",
       "      <th>Max</th>\n",
       "      <td>319210.27</td>\n",
       "    </tr>\n",
       "  </tbody>\n",
       "</table>\n",
       "</div>"
      ],
      "text/plain": [
       "        prevailing_wage\n",
       "count          25480.00\n",
       "Min                2.14\n",
       "P_20           34015.48\n",
       "Mean           74455.81\n",
       "Median         70308.21\n",
       "p_50           70308.21\n",
       "p_75          107735.51\n",
       "Max           319210.27"
      ]
     },
     "execution_count": 21,
     "metadata": {},
     "output_type": "execute_result"
    }
   ],
   "source": [
    "count=len(wage_data)\n",
    "Min=round(np.min(wage_data),2)\n",
    "p_20=round(np.percentile(wage_data,25),2)\n",
    "Mean=round(np.mean(wage_data),2)\n",
    "Median=round(np.median(wage_data),2)\n",
    "p_50=round(np.percentile(wage_data,50),2)\n",
    "p_75=round(np.percentile(wage_data,75),2)\n",
    "Max=round(np.max(wage_data),2)\n",
    "# keep all values in a list\n",
    "# create a list index=['Count' ,'Min','25p']\n",
    "\n",
    "values=[count,Min,p_20,Mean,Median,p_50,p_75,Max]\n",
    "ids=['count','Min','P_20','Mean','Median','p_50','p_75','Max']\n",
    "pd.DataFrame(values,index=ids,columns=['prevailing_wage'])"
   ]
  },
  {
   "cell_type": "code",
   "execution_count": 15,
   "id": "42f47d01-7e23-4978-86a2-7fd2346f2549",
   "metadata": {},
   "outputs": [],
   "source": [
    "ids=['count','Min','P_20','Mean','Median','p_50','p_75','Max']\n",
    "l=[]\n",
    "for i in num:\n",
    "    data=visa_df[i]\n",
    "    count=len(data)\n",
    "    Min=round(np.min(data),2)\n",
    "    p_20=round(np.percentile(data,25),2)\n",
    "    Mean=round(np.mean(data),2)\n",
    "    Median=round(np.median(data),2)\n",
    "    p_50=round(np.percentile(data,50),2)\n",
    "    p_75=round(np.percentile(data,75),2)\n",
    "    Max=round(np.max(data),2)\n",
    "    values=[count,Min,p_20,Mean,Median,p_50,p_75,Max]\n",
    "    l.append(values)"
   ]
  },
  {
   "cell_type": "code",
   "execution_count": 17,
   "id": "d85ee166-b391-48e3-ae42-e98ba3701d60",
   "metadata": {},
   "outputs": [
    {
     "data": {
      "text/html": [
       "<div>\n",
       "<style scoped>\n",
       "    .dataframe tbody tr th:only-of-type {\n",
       "        vertical-align: middle;\n",
       "    }\n",
       "\n",
       "    .dataframe tbody tr th {\n",
       "        vertical-align: top;\n",
       "    }\n",
       "\n",
       "    .dataframe thead th {\n",
       "        text-align: right;\n",
       "    }\n",
       "</style>\n",
       "<table border=\"1\" class=\"dataframe\">\n",
       "  <thead>\n",
       "    <tr style=\"text-align: right;\">\n",
       "      <th></th>\n",
       "      <th>no_of_employees</th>\n",
       "      <th>yr_of_estab</th>\n",
       "      <th>prevailing_wage</th>\n",
       "    </tr>\n",
       "  </thead>\n",
       "  <tbody>\n",
       "    <tr>\n",
       "      <th>count</th>\n",
       "      <td>25480.00</td>\n",
       "      <td>25480.00</td>\n",
       "      <td>25480.00</td>\n",
       "    </tr>\n",
       "    <tr>\n",
       "      <th>Min</th>\n",
       "      <td>-26.00</td>\n",
       "      <td>1800.00</td>\n",
       "      <td>2.14</td>\n",
       "    </tr>\n",
       "    <tr>\n",
       "      <th>P_20</th>\n",
       "      <td>1022.00</td>\n",
       "      <td>1976.00</td>\n",
       "      <td>34015.48</td>\n",
       "    </tr>\n",
       "    <tr>\n",
       "      <th>Mean</th>\n",
       "      <td>5667.04</td>\n",
       "      <td>1979.41</td>\n",
       "      <td>74455.81</td>\n",
       "    </tr>\n",
       "    <tr>\n",
       "      <th>Median</th>\n",
       "      <td>2109.00</td>\n",
       "      <td>1997.00</td>\n",
       "      <td>70308.21</td>\n",
       "    </tr>\n",
       "    <tr>\n",
       "      <th>p_50</th>\n",
       "      <td>2109.00</td>\n",
       "      <td>1997.00</td>\n",
       "      <td>70308.21</td>\n",
       "    </tr>\n",
       "    <tr>\n",
       "      <th>p_75</th>\n",
       "      <td>3504.00</td>\n",
       "      <td>2005.00</td>\n",
       "      <td>107735.51</td>\n",
       "    </tr>\n",
       "    <tr>\n",
       "      <th>Max</th>\n",
       "      <td>602069.00</td>\n",
       "      <td>2016.00</td>\n",
       "      <td>319210.27</td>\n",
       "    </tr>\n",
       "  </tbody>\n",
       "</table>\n",
       "</div>"
      ],
      "text/plain": [
       "        no_of_employees  yr_of_estab  prevailing_wage\n",
       "count          25480.00     25480.00         25480.00\n",
       "Min              -26.00      1800.00             2.14\n",
       "P_20            1022.00      1976.00         34015.48\n",
       "Mean            5667.04      1979.41         74455.81\n",
       "Median          2109.00      1997.00         70308.21\n",
       "p_50            2109.00      1997.00         70308.21\n",
       "p_75            3504.00      2005.00        107735.51\n",
       "Max           602069.00      2016.00        319210.27"
      ]
     },
     "execution_count": 17,
     "metadata": {},
     "output_type": "execute_result"
    }
   ],
   "source": [
    "pd.DataFrame(l,columns=ids,  # give index list at columns place\n",
    "             index=num).T    # give numerical columns values at index place"
   ]
  },
  {
   "cell_type": "code",
   "execution_count": 19,
   "id": "25e79ee4-41df-4d41-b5d1-3fa09f8b1f60",
   "metadata": {},
   "outputs": [
    {
     "data": {
      "text/html": [
       "<div>\n",
       "<style scoped>\n",
       "    .dataframe tbody tr th:only-of-type {\n",
       "        vertical-align: middle;\n",
       "    }\n",
       "\n",
       "    .dataframe tbody tr th {\n",
       "        vertical-align: top;\n",
       "    }\n",
       "\n",
       "    .dataframe thead th {\n",
       "        text-align: right;\n",
       "    }\n",
       "</style>\n",
       "<table border=\"1\" class=\"dataframe\">\n",
       "  <thead>\n",
       "    <tr style=\"text-align: right;\">\n",
       "      <th></th>\n",
       "      <th>no_of_employees</th>\n",
       "      <th>yr_of_estab</th>\n",
       "      <th>prevailing_wage</th>\n",
       "    </tr>\n",
       "  </thead>\n",
       "  <tbody>\n",
       "    <tr>\n",
       "      <th>count</th>\n",
       "      <td>25480.000000</td>\n",
       "      <td>25480.000000</td>\n",
       "      <td>25480.000000</td>\n",
       "    </tr>\n",
       "    <tr>\n",
       "      <th>mean</th>\n",
       "      <td>5667.043210</td>\n",
       "      <td>1979.409929</td>\n",
       "      <td>74455.814592</td>\n",
       "    </tr>\n",
       "    <tr>\n",
       "      <th>std</th>\n",
       "      <td>22877.928848</td>\n",
       "      <td>42.366929</td>\n",
       "      <td>52815.942327</td>\n",
       "    </tr>\n",
       "    <tr>\n",
       "      <th>min</th>\n",
       "      <td>-26.000000</td>\n",
       "      <td>1800.000000</td>\n",
       "      <td>2.136700</td>\n",
       "    </tr>\n",
       "    <tr>\n",
       "      <th>25%</th>\n",
       "      <td>1022.000000</td>\n",
       "      <td>1976.000000</td>\n",
       "      <td>34015.480000</td>\n",
       "    </tr>\n",
       "    <tr>\n",
       "      <th>50%</th>\n",
       "      <td>2109.000000</td>\n",
       "      <td>1997.000000</td>\n",
       "      <td>70308.210000</td>\n",
       "    </tr>\n",
       "    <tr>\n",
       "      <th>75%</th>\n",
       "      <td>3504.000000</td>\n",
       "      <td>2005.000000</td>\n",
       "      <td>107735.512500</td>\n",
       "    </tr>\n",
       "    <tr>\n",
       "      <th>max</th>\n",
       "      <td>602069.000000</td>\n",
       "      <td>2016.000000</td>\n",
       "      <td>319210.270000</td>\n",
       "    </tr>\n",
       "  </tbody>\n",
       "</table>\n",
       "</div>"
      ],
      "text/plain": [
       "       no_of_employees   yr_of_estab  prevailing_wage\n",
       "count     25480.000000  25480.000000     25480.000000\n",
       "mean       5667.043210   1979.409929     74455.814592\n",
       "std       22877.928848     42.366929     52815.942327\n",
       "min         -26.000000   1800.000000         2.136700\n",
       "25%        1022.000000   1976.000000     34015.480000\n",
       "50%        2109.000000   1997.000000     70308.210000\n",
       "75%        3504.000000   2005.000000    107735.512500\n",
       "max      602069.000000   2016.000000    319210.270000"
      ]
     },
     "execution_count": 19,
     "metadata": {},
     "output_type": "execute_result"
    }
   ],
   "source": [
    "visa_df.describe()"
   ]
  },
  {
   "cell_type": "markdown",
   "id": "6d88baa6-6ee4-4f93-be99-6e92367b7cd0",
   "metadata": {},
   "source": [
    "**Meaning**"
   ]
  },
  {
   "cell_type": "markdown",
   "id": "0c37deab-79da-4192-b590-d491c2c2163c",
   "metadata": {},
   "source": [
    "- 25 percentage of applicants has wage less than 34015.47\n",
    "  - 25% of 25480 = 6370 applicants has wage less than 34015.47\n",
    "\n",
    "- 50  percentage of applicants has wage less than 34015.47\n",
    "\n",
    "- 75 percentage of applicants has wage less 19\n"
   ]
  },
  {
   "cell_type": "markdown",
   "id": "ff10184b-1323-4548-92c3-2214078b5247",
   "metadata": {},
   "source": [
    "**Idea**"
   ]
  },
  {
   "cell_type": "code",
   "execution_count": 24,
   "id": "132204db-67d7-4882-bdac-0740cb75c518",
   "metadata": {},
   "outputs": [
    {
     "data": {
      "text/plain": [
       "6370"
      ]
     },
     "execution_count": 24,
     "metadata": {},
     "output_type": "execute_result"
    }
   ],
   "source": [
    "p_25=np.percentile(wage_data,25)\n",
    "con=wage_data<p_25\n",
    "len(visa_df[con])"
   ]
  },
  {
   "cell_type": "code",
   "execution_count": 26,
   "id": "fbf1d26e-17f1-4e99-9180-1f9ced6cc094",
   "metadata": {},
   "outputs": [
    {
     "data": {
      "text/plain": [
       "12740"
      ]
     },
     "execution_count": 26,
     "metadata": {},
     "output_type": "execute_result"
    }
   ],
   "source": [
    "p_50=np.percentile(wage_data,50)\n",
    "con=wage_data<p_50\n",
    "len(visa_df[con])"
   ]
  },
  {
   "cell_type": "code",
   "execution_count": 28,
   "id": "0290ecc8-f868-4e7e-961a-a8f5ac7aec18",
   "metadata": {},
   "outputs": [
    {
     "data": {
      "text/plain": [
       "19110"
      ]
     },
     "execution_count": 28,
     "metadata": {},
     "output_type": "execute_result"
    }
   ],
   "source": [
    "p_75=np.percentile(wage_data,75)\n",
    "con=wage_data<p_75\n",
    "len(visa_df[con])"
   ]
  },
  {
   "cell_type": "markdown",
   "id": "58593b10-554b-48ff-9594-219be429dbde",
   "metadata": {},
   "source": [
    "**Emperical Rule**\n",
    "\n",
    " u-1*std to u+1*std =68%\n",
    "\n",
    " u-2*std to u+2*std =68%\n",
    "\n",
    " u-3*std to u+3*std =68%\n",
    "\n",
    "  - step-1: wage_mean\n",
    "\n",
    "  - step-2: wage_std\n",
    "\n",
    "  - step-3: lb=wage_mean-1*wage_std\n",
    "\n",
    "  - step-4: ub=wage_mean+1*wage_std\n",
    "\n",
    "  - step-5: con1=wage_data>lb\n",
    "\n",
    "  - step-6: con2=wage_data<ub\n",
    "\n",
    "  - step-7: con=con1 & con2\n",
    "\n",
    "  - step-8: len(visa_df[con])==68*25480/10"
   ]
  },
  {
   "cell_type": "code",
   "execution_count": 31,
   "id": "a5495209-fd2b-4bdf-908e-f195b35d48ea",
   "metadata": {},
   "outputs": [
    {
     "data": {
      "text/plain": [
       "17170"
      ]
     },
     "execution_count": 31,
     "metadata": {},
     "output_type": "execute_result"
    }
   ],
   "source": [
    "wage_mean=np.mean(wage_data)\n",
    "wage_std=np.std(wage_data)\n",
    "lb=wage_mean-1*wage_std\n",
    "ub=wage_mean+1*wage_std\n",
    "con1=wage_data>lb\n",
    "con2=wage_data<ub\n",
    "\n",
    "con=con1&con2\n",
    "len(visa_df[con])"
   ]
  },
  {
   "cell_type": "code",
   "execution_count": 33,
   "id": "318b47c7-9cd4-45a2-9963-06ec8855f6ef",
   "metadata": {},
   "outputs": [
    {
     "data": {
      "text/plain": [
       "173264.0"
      ]
     },
     "execution_count": 33,
     "metadata": {},
     "output_type": "execute_result"
    }
   ],
   "source": [
    "68*25480/10"
   ]
  },
  {
   "cell_type": "code",
   "execution_count": 35,
   "id": "22a9b851-0352-4e16-8a33-b3d6c5b508f8",
   "metadata": {},
   "outputs": [
    {
     "data": {
      "text/plain": [
       "24582"
      ]
     },
     "execution_count": 35,
     "metadata": {},
     "output_type": "execute_result"
    }
   ],
   "source": [
    "wage_mean=np.mean(wage_data)\n",
    "wage_std=np.std(wage_data)\n",
    "lb=wage_mean-2*wage_std\n",
    "ub=wage_mean+2*wage_std\n",
    "con1=wage_data>lb\n",
    "con2=wage_data<ub\n",
    "con=con1&con2\n",
    "len(visa_df[con])"
   ]
  },
  {
   "cell_type": "code",
   "execution_count": 37,
   "id": "8e3925ac-15d5-4552-9625-efd612d5d005",
   "metadata": {},
   "outputs": [
    {
     "data": {
      "text/plain": [
       "25186"
      ]
     },
     "execution_count": 37,
     "metadata": {},
     "output_type": "execute_result"
    }
   ],
   "source": [
    "wage_mean=np.mean(wage_data)\n",
    "wage_std=np.std(wage_data)\n",
    "lb=wage_mean-3*wage_std\n",
    "ub=wage_mean+3*wage_std\n",
    "con1=wage_data>lb\n",
    "con2=wage_data<ub\n",
    "con=con1&con2\n",
    "len(visa_df[con])"
   ]
  },
  {
   "cell_type": "markdown",
   "id": "bf26bb87-0136-4ee6-be7b-f57ad1dc9588",
   "metadata": {},
   "source": [
    "**Conclusion : Data does not following Normal distribution**"
   ]
  },
  {
   "cell_type": "markdown",
   "id": "a5fef21a-5bf8-40c5-8b52-dd6399b36d66",
   "metadata": {},
   "source": [
    "**Histogram**"
   ]
  },
  {
   "cell_type": "code",
   "execution_count": 41,
   "id": "35e64d2d-fdd1-4c98-9829-aae2254770c5",
   "metadata": {},
   "outputs": [
    {
     "data": {
      "text/plain": [
       "(array([6038., 5504., 5681., 4551., 2334.,  624.,  373.,  240.,  114.,\n",
       "          21.]),\n",
       " array([2.13670000e+00, 3.19229500e+04, 6.38437634e+04, 9.57645767e+04,\n",
       "        1.27685390e+05, 1.59606203e+05, 1.91527017e+05, 2.23447830e+05,\n",
       "        2.55368643e+05, 2.87289457e+05, 3.19210270e+05]),\n",
       " <BarContainer object of 10 artists>)"
      ]
     },
     "execution_count": 41,
     "metadata": {},
     "output_type": "execute_result"
    },
    {
     "data": {
      "image/png": "[encoded data removed]",
      "text/plain": [
       "<Figure size 640x480 with 1 Axes>"
      ]
     },
     "metadata": {},
     "output_type": "display_data"
    }
   ],
   "source": [
    "plt.hist(wage_data)"
   ]
  },
  {
   "cell_type": "code",
   "execution_count": 43,
   "id": "94526c61-085c-446b-9bea-a6db5645638b",
   "metadata": {},
   "outputs": [
    {
     "data": {
      "text/plain": [
       "6038"
      ]
     },
     "execution_count": 43,
     "metadata": {},
     "output_type": "execute_result"
    }
   ],
   "source": [
    "lb=wage_data>=2.13670000e+00\n",
    "ub=wage_data<3.19229500e+04\n",
    "con=lb&ub\n",
    "len(visa_df[con])"
   ]
  },
  {
   "cell_type": "code",
   "execution_count": 45,
   "id": "81f4ecf4-70b1-4799-9067-8bd44ce17bed",
   "metadata": {},
   "outputs": [
    {
     "data": {
      "image/png": "[encoded data removed]",
      "text/plain": [
       "<Figure size 640x480 with 1 Axes>"
      ]
     },
     "metadata": {},
     "output_type": "display_data"
    }
   ],
   "source": [
    "plt.hist(wage_data,bins=40)\n",
    "plt.show()"
   ]
  },
  {
   "cell_type": "code",
   "execution_count": 47,
   "id": "466b2df5-df21-4683-bda7-4272b35fa957",
   "metadata": {},
   "outputs": [
    {
     "data": {
      "text/plain": [
       "(array([2992.,  871., 1005., 1170., 1242., 1434., 1385., 1443., 1444.,\n",
       "        1445., 1457., 1335., 1268., 1217., 1088.,  978.,  807.,  645.,\n",
       "         509.,  373.,  264.,  144.,  105.,  111.,  107.,   99.,   88.,\n",
       "          79.,   65.,   64.,   58.,   53.,   33.,   33.,   29.,   19.,\n",
       "           7.,    3.,    6.,    5.]),\n",
       " array([2.13670000e+00, 7.98234003e+03, 1.59625434e+04, 2.39427467e+04,\n",
       "        3.19229500e+04, 3.99031534e+04, 4.78833567e+04, 5.58635600e+04,\n",
       "        6.38437634e+04, 7.18239667e+04, 7.98041700e+04, 8.77843734e+04,\n",
       "        9.57645767e+04, 1.03744780e+05, 1.11724983e+05, 1.19705187e+05,\n",
       "        1.27685390e+05, 1.35665593e+05, 1.43645797e+05, 1.51626000e+05,\n",
       "        1.59606203e+05, 1.67586407e+05, 1.75566610e+05, 1.83546813e+05,\n",
       "        1.91527017e+05, 1.99507220e+05, 2.07487423e+05, 2.15467627e+05,\n",
       "        2.23447830e+05, 2.31428033e+05, 2.39408237e+05, 2.47388440e+05,\n",
       "        2.55368643e+05, 2.63348847e+05, 2.71329050e+05, 2.79309253e+05,\n",
       "        2.87289457e+05, 2.95269660e+05, 3.03249863e+05, 3.11230067e+05,\n",
       "        3.19210270e+05]),\n",
       " <BarContainer object of 40 artists>)"
      ]
     },
     "execution_count": 47,
     "metadata": {},
     "output_type": "execute_result"
    },
    {
     "data": {
      "image/png": "[encoded data removed]",
      "text/plain": [
       "<Figure size 640x480 with 1 Axes>"
      ]
     },
     "metadata": {},
     "output_type": "display_data"
    }
   ],
   "source": [
    "plt.hist(wage_data,bins=40)"
   ]
  },
  {
   "cell_type": "markdown",
   "id": "c2f3f001-d918-46d7-aaef-473f0df32039",
   "metadata": {},
   "source": [
    "**Box Plot**"
   ]
  },
  {
   "cell_type": "code",
   "execution_count": 50,
   "id": "c1e926dd-ba77-4379-9bd8-aff9664d7513",
   "metadata": {},
   "outputs": [
    {
     "data": {
      "image/png": "[encoded data removed]",
      "text/plain": [
       "<Figure size 640x480 with 1 Axes>"
      ]
     },
     "metadata": {},
     "output_type": "display_data"
    }
   ],
   "source": [
    "plt.boxplot(wage_data,vert=False)\n",
    "plt.show()"
   ]
  },
  {
   "cell_type": "markdown",
   "id": "939953ec-0553-4b89-8a4a-03fa500bd0fa",
   "metadata": {},
   "source": [
    "**Outlier Data**"
   ]
  },
  {
   "cell_type": "code",
   "execution_count": 53,
   "id": "48eb5b5c-40e4-49df-b926-fb38bf458507",
   "metadata": {},
   "outputs": [
    {
     "data": {
      "text/html": [
       "<div>\n",
       "<style scoped>\n",
       "    .dataframe tbody tr th:only-of-type {\n",
       "        vertical-align: middle;\n",
       "    }\n",
       "\n",
       "    .dataframe tbody tr th {\n",
       "        vertical-align: top;\n",
       "    }\n",
       "\n",
       "    .dataframe thead th {\n",
       "        text-align: right;\n",
       "    }\n",
       "</style>\n",
       "<table border=\"1\" class=\"dataframe\">\n",
       "  <thead>\n",
       "    <tr style=\"text-align: right;\">\n",
       "      <th></th>\n",
       "      <th>case_id</th>\n",
       "      <th>continent</th>\n",
       "      <th>education_of_employee</th>\n",
       "      <th>has_job_experience</th>\n",
       "      <th>requires_job_training</th>\n",
       "      <th>no_of_employees</th>\n",
       "      <th>yr_of_estab</th>\n",
       "      <th>region_of_employment</th>\n",
       "      <th>prevailing_wage</th>\n",
       "      <th>unit_of_wage</th>\n",
       "      <th>full_time_position</th>\n",
       "      <th>case_status</th>\n",
       "    </tr>\n",
       "  </thead>\n",
       "  <tbody>\n",
       "    <tr>\n",
       "      <th>14</th>\n",
       "      <td>EZYV15</td>\n",
       "      <td>Asia</td>\n",
       "      <td>Master's</td>\n",
       "      <td>Y</td>\n",
       "      <td>Y</td>\n",
       "      <td>15756</td>\n",
       "      <td>2006</td>\n",
       "      <td>South</td>\n",
       "      <td>220081.73</td>\n",
       "      <td>Year</td>\n",
       "      <td>Y</td>\n",
       "      <td>Certified</td>\n",
       "    </tr>\n",
       "    <tr>\n",
       "      <th>34</th>\n",
       "      <td>EZYV35</td>\n",
       "      <td>Asia</td>\n",
       "      <td>Master's</td>\n",
       "      <td>N</td>\n",
       "      <td>N</td>\n",
       "      <td>1809</td>\n",
       "      <td>2010</td>\n",
       "      <td>South</td>\n",
       "      <td>225569.73</td>\n",
       "      <td>Year</td>\n",
       "      <td>N</td>\n",
       "      <td>Certified</td>\n",
       "    </tr>\n",
       "    <tr>\n",
       "      <th>130</th>\n",
       "      <td>EZYV131</td>\n",
       "      <td>South America</td>\n",
       "      <td>High School</td>\n",
       "      <td>N</td>\n",
       "      <td>N</td>\n",
       "      <td>2554</td>\n",
       "      <td>2005</td>\n",
       "      <td>Midwest</td>\n",
       "      <td>247393.01</td>\n",
       "      <td>Year</td>\n",
       "      <td>Y</td>\n",
       "      <td>Certified</td>\n",
       "    </tr>\n",
       "    <tr>\n",
       "      <th>216</th>\n",
       "      <td>EZYV217</td>\n",
       "      <td>Asia</td>\n",
       "      <td>Master's</td>\n",
       "      <td>Y</td>\n",
       "      <td>N</td>\n",
       "      <td>1515</td>\n",
       "      <td>2001</td>\n",
       "      <td>Midwest</td>\n",
       "      <td>269321.68</td>\n",
       "      <td>Year</td>\n",
       "      <td>N</td>\n",
       "      <td>Certified</td>\n",
       "    </tr>\n",
       "    <tr>\n",
       "      <th>221</th>\n",
       "      <td>EZYV222</td>\n",
       "      <td>North America</td>\n",
       "      <td>Doctorate</td>\n",
       "      <td>Y</td>\n",
       "      <td>Y</td>\n",
       "      <td>2518</td>\n",
       "      <td>2010</td>\n",
       "      <td>South</td>\n",
       "      <td>219529.62</td>\n",
       "      <td>Year</td>\n",
       "      <td>Y</td>\n",
       "      <td>Certified</td>\n",
       "    </tr>\n",
       "    <tr>\n",
       "      <th>...</th>\n",
       "      <td>...</td>\n",
       "      <td>...</td>\n",
       "      <td>...</td>\n",
       "      <td>...</td>\n",
       "      <td>...</td>\n",
       "      <td>...</td>\n",
       "      <td>...</td>\n",
       "      <td>...</td>\n",
       "      <td>...</td>\n",
       "      <td>...</td>\n",
       "      <td>...</td>\n",
       "      <td>...</td>\n",
       "    </tr>\n",
       "    <tr>\n",
       "      <th>25191</th>\n",
       "      <td>EZYV25192</td>\n",
       "      <td>Asia</td>\n",
       "      <td>Master's</td>\n",
       "      <td>N</td>\n",
       "      <td>N</td>\n",
       "      <td>4983</td>\n",
       "      <td>2005</td>\n",
       "      <td>Midwest</td>\n",
       "      <td>280482.51</td>\n",
       "      <td>Year</td>\n",
       "      <td>Y</td>\n",
       "      <td>Denied</td>\n",
       "    </tr>\n",
       "    <tr>\n",
       "      <th>25195</th>\n",
       "      <td>EZYV25196</td>\n",
       "      <td>North America</td>\n",
       "      <td>Master's</td>\n",
       "      <td>Y</td>\n",
       "      <td>N</td>\n",
       "      <td>47</td>\n",
       "      <td>2001</td>\n",
       "      <td>South</td>\n",
       "      <td>234308.77</td>\n",
       "      <td>Year</td>\n",
       "      <td>N</td>\n",
       "      <td>Certified</td>\n",
       "    </tr>\n",
       "    <tr>\n",
       "      <th>25468</th>\n",
       "      <td>EZYV25469</td>\n",
       "      <td>Asia</td>\n",
       "      <td>Bachelor's</td>\n",
       "      <td>N</td>\n",
       "      <td>N</td>\n",
       "      <td>373</td>\n",
       "      <td>2005</td>\n",
       "      <td>Midwest</td>\n",
       "      <td>272715.74</td>\n",
       "      <td>Year</td>\n",
       "      <td>N</td>\n",
       "      <td>Certified</td>\n",
       "    </tr>\n",
       "    <tr>\n",
       "      <th>25469</th>\n",
       "      <td>EZYV25470</td>\n",
       "      <td>North America</td>\n",
       "      <td>Master's</td>\n",
       "      <td>Y</td>\n",
       "      <td>N</td>\n",
       "      <td>2261</td>\n",
       "      <td>1997</td>\n",
       "      <td>Northeast</td>\n",
       "      <td>273772.47</td>\n",
       "      <td>Year</td>\n",
       "      <td>N</td>\n",
       "      <td>Certified</td>\n",
       "    </tr>\n",
       "    <tr>\n",
       "      <th>25476</th>\n",
       "      <td>EZYV25477</td>\n",
       "      <td>Asia</td>\n",
       "      <td>High School</td>\n",
       "      <td>Y</td>\n",
       "      <td>N</td>\n",
       "      <td>3274</td>\n",
       "      <td>2006</td>\n",
       "      <td>Northeast</td>\n",
       "      <td>279174.79</td>\n",
       "      <td>Year</td>\n",
       "      <td>Y</td>\n",
       "      <td>Certified</td>\n",
       "    </tr>\n",
       "  </tbody>\n",
       "</table>\n",
       "<p>427 rows × 12 columns</p>\n",
       "</div>"
      ],
      "text/plain": [
       "         case_id      continent education_of_employee has_job_experience  \\\n",
       "14        EZYV15           Asia              Master's                  Y   \n",
       "34        EZYV35           Asia              Master's                  N   \n",
       "130      EZYV131  South America           High School                  N   \n",
       "216      EZYV217           Asia              Master's                  Y   \n",
       "221      EZYV222  North America             Doctorate                  Y   \n",
       "...          ...            ...                   ...                ...   \n",
       "25191  EZYV25192           Asia              Master's                  N   \n",
       "25195  EZYV25196  North America              Master's                  Y   \n",
       "25468  EZYV25469           Asia            Bachelor's                  N   \n",
       "25469  EZYV25470  North America              Master's                  Y   \n",
       "25476  EZYV25477           Asia           High School                  Y   \n",
       "\n",
       "      requires_job_training  no_of_employees  yr_of_estab  \\\n",
       "14                        Y            15756         2006   \n",
       "34                        N             1809         2010   \n",
       "130                       N             2554         2005   \n",
       "216                       N             1515         2001   \n",
       "221                       Y             2518         2010   \n",
       "...                     ...              ...          ...   \n",
       "25191                     N             4983         2005   \n",
       "25195                     N               47         2001   \n",
       "25468                     N              373         2005   \n",
       "25469                     N             2261         1997   \n",
       "25476                     N             3274         2006   \n",
       "\n",
       "      region_of_employment  prevailing_wage unit_of_wage full_time_position  \\\n",
       "14                   South        220081.73         Year                  Y   \n",
       "34                   South        225569.73         Year                  N   \n",
       "130                Midwest        247393.01         Year                  Y   \n",
       "216                Midwest        269321.68         Year                  N   \n",
       "221                  South        219529.62         Year                  Y   \n",
       "...                    ...              ...          ...                ...   \n",
       "25191              Midwest        280482.51         Year                  Y   \n",
       "25195                South        234308.77         Year                  N   \n",
       "25468              Midwest        272715.74         Year                  N   \n",
       "25469            Northeast        273772.47         Year                  N   \n",
       "25476            Northeast        279174.79         Year                  Y   \n",
       "\n",
       "      case_status  \n",
       "14      Certified  \n",
       "34      Certified  \n",
       "130     Certified  \n",
       "216     Certified  \n",
       "221     Certified  \n",
       "...           ...  \n",
       "25191      Denied  \n",
       "25195   Certified  \n",
       "25468   Certified  \n",
       "25469   Certified  \n",
       "25476   Certified  \n",
       "\n",
       "[427 rows x 12 columns]"
      ]
     },
     "execution_count": 53,
     "metadata": {},
     "output_type": "execute_result"
    }
   ],
   "source": [
    "q1=np.percentile(wage_data,25)\n",
    "q2=np.percentile(wage_data,50)\n",
    "q3=np.percentile(wage_data,75)\n",
    "IQR=q3-q1\n",
    "lb=q1-1.5*IQR\n",
    "ub=q3+1.5*IQR\n",
    "con1=wage_data<lb\n",
    "con2=wage_data>ub\n",
    "con=con1|con2\n",
    "outliers_df=visa_df[con]\n",
    "outliers_df"
   ]
  },
  {
   "cell_type": "markdown",
   "id": "10921bc9-5558-412d-8630-838eed56aadb",
   "metadata": {},
   "source": [
    "**Non Outlier Data**"
   ]
  },
  {
   "cell_type": "code",
   "execution_count": 56,
   "id": "85e654ea-53be-4a71-843f-0ded79e18ce4",
   "metadata": {},
   "outputs": [
    {
     "data": {
      "text/html": [
       "<div>\n",
       "<style scoped>\n",
       "    .dataframe tbody tr th:only-of-type {\n",
       "        vertical-align: middle;\n",
       "    }\n",
       "\n",
       "    .dataframe tbody tr th {\n",
       "        vertical-align: top;\n",
       "    }\n",
       "\n",
       "    .dataframe thead th {\n",
       "        text-align: right;\n",
       "    }\n",
       "</style>\n",
       "<table border=\"1\" class=\"dataframe\">\n",
       "  <thead>\n",
       "    <tr style=\"text-align: right;\">\n",
       "      <th></th>\n",
       "      <th>case_id</th>\n",
       "      <th>continent</th>\n",
       "      <th>education_of_employee</th>\n",
       "      <th>has_job_experience</th>\n",
       "      <th>requires_job_training</th>\n",
       "      <th>no_of_employees</th>\n",
       "      <th>yr_of_estab</th>\n",
       "      <th>region_of_employment</th>\n",
       "      <th>prevailing_wage</th>\n",
       "      <th>unit_of_wage</th>\n",
       "      <th>full_time_position</th>\n",
       "      <th>case_status</th>\n",
       "    </tr>\n",
       "  </thead>\n",
       "  <tbody>\n",
       "    <tr>\n",
       "      <th>0</th>\n",
       "      <td>EZYV01</td>\n",
       "      <td>Asia</td>\n",
       "      <td>High School</td>\n",
       "      <td>N</td>\n",
       "      <td>N</td>\n",
       "      <td>14513</td>\n",
       "      <td>2007</td>\n",
       "      <td>West</td>\n",
       "      <td>592.2029</td>\n",
       "      <td>Hour</td>\n",
       "      <td>Y</td>\n",
       "      <td>Denied</td>\n",
       "    </tr>\n",
       "    <tr>\n",
       "      <th>1</th>\n",
       "      <td>EZYV02</td>\n",
       "      <td>Asia</td>\n",
       "      <td>Master's</td>\n",
       "      <td>Y</td>\n",
       "      <td>N</td>\n",
       "      <td>2412</td>\n",
       "      <td>2002</td>\n",
       "      <td>Northeast</td>\n",
       "      <td>83425.6500</td>\n",
       "      <td>Year</td>\n",
       "      <td>Y</td>\n",
       "      <td>Certified</td>\n",
       "    </tr>\n",
       "    <tr>\n",
       "      <th>2</th>\n",
       "      <td>EZYV03</td>\n",
       "      <td>Asia</td>\n",
       "      <td>Bachelor's</td>\n",
       "      <td>N</td>\n",
       "      <td>Y</td>\n",
       "      <td>44444</td>\n",
       "      <td>2008</td>\n",
       "      <td>West</td>\n",
       "      <td>122996.8600</td>\n",
       "      <td>Year</td>\n",
       "      <td>Y</td>\n",
       "      <td>Denied</td>\n",
       "    </tr>\n",
       "    <tr>\n",
       "      <th>3</th>\n",
       "      <td>EZYV04</td>\n",
       "      <td>Asia</td>\n",
       "      <td>Bachelor's</td>\n",
       "      <td>N</td>\n",
       "      <td>N</td>\n",
       "      <td>98</td>\n",
       "      <td>1897</td>\n",
       "      <td>West</td>\n",
       "      <td>83434.0300</td>\n",
       "      <td>Year</td>\n",
       "      <td>Y</td>\n",
       "      <td>Denied</td>\n",
       "    </tr>\n",
       "    <tr>\n",
       "      <th>4</th>\n",
       "      <td>EZYV05</td>\n",
       "      <td>Africa</td>\n",
       "      <td>Master's</td>\n",
       "      <td>Y</td>\n",
       "      <td>N</td>\n",
       "      <td>1082</td>\n",
       "      <td>2005</td>\n",
       "      <td>South</td>\n",
       "      <td>149907.3900</td>\n",
       "      <td>Year</td>\n",
       "      <td>Y</td>\n",
       "      <td>Certified</td>\n",
       "    </tr>\n",
       "    <tr>\n",
       "      <th>...</th>\n",
       "      <td>...</td>\n",
       "      <td>...</td>\n",
       "      <td>...</td>\n",
       "      <td>...</td>\n",
       "      <td>...</td>\n",
       "      <td>...</td>\n",
       "      <td>...</td>\n",
       "      <td>...</td>\n",
       "      <td>...</td>\n",
       "      <td>...</td>\n",
       "      <td>...</td>\n",
       "      <td>...</td>\n",
       "    </tr>\n",
       "    <tr>\n",
       "      <th>25474</th>\n",
       "      <td>EZYV25475</td>\n",
       "      <td>Africa</td>\n",
       "      <td>Doctorate</td>\n",
       "      <td>N</td>\n",
       "      <td>N</td>\n",
       "      <td>2594</td>\n",
       "      <td>1979</td>\n",
       "      <td>Northeast</td>\n",
       "      <td>51104.7800</td>\n",
       "      <td>Year</td>\n",
       "      <td>Y</td>\n",
       "      <td>Certified</td>\n",
       "    </tr>\n",
       "    <tr>\n",
       "      <th>25475</th>\n",
       "      <td>EZYV25476</td>\n",
       "      <td>Asia</td>\n",
       "      <td>Bachelor's</td>\n",
       "      <td>Y</td>\n",
       "      <td>Y</td>\n",
       "      <td>2601</td>\n",
       "      <td>2008</td>\n",
       "      <td>South</td>\n",
       "      <td>77092.5700</td>\n",
       "      <td>Year</td>\n",
       "      <td>Y</td>\n",
       "      <td>Certified</td>\n",
       "    </tr>\n",
       "    <tr>\n",
       "      <th>25477</th>\n",
       "      <td>EZYV25478</td>\n",
       "      <td>Asia</td>\n",
       "      <td>Master's</td>\n",
       "      <td>Y</td>\n",
       "      <td>N</td>\n",
       "      <td>1121</td>\n",
       "      <td>1910</td>\n",
       "      <td>South</td>\n",
       "      <td>146298.8500</td>\n",
       "      <td>Year</td>\n",
       "      <td>N</td>\n",
       "      <td>Certified</td>\n",
       "    </tr>\n",
       "    <tr>\n",
       "      <th>25478</th>\n",
       "      <td>EZYV25479</td>\n",
       "      <td>Asia</td>\n",
       "      <td>Master's</td>\n",
       "      <td>Y</td>\n",
       "      <td>Y</td>\n",
       "      <td>1918</td>\n",
       "      <td>1887</td>\n",
       "      <td>West</td>\n",
       "      <td>86154.7700</td>\n",
       "      <td>Year</td>\n",
       "      <td>Y</td>\n",
       "      <td>Certified</td>\n",
       "    </tr>\n",
       "    <tr>\n",
       "      <th>25479</th>\n",
       "      <td>EZYV25480</td>\n",
       "      <td>Asia</td>\n",
       "      <td>Bachelor's</td>\n",
       "      <td>Y</td>\n",
       "      <td>N</td>\n",
       "      <td>3195</td>\n",
       "      <td>1960</td>\n",
       "      <td>Midwest</td>\n",
       "      <td>70876.9100</td>\n",
       "      <td>Year</td>\n",
       "      <td>Y</td>\n",
       "      <td>Certified</td>\n",
       "    </tr>\n",
       "  </tbody>\n",
       "</table>\n",
       "<p>25053 rows × 12 columns</p>\n",
       "</div>"
      ],
      "text/plain": [
       "         case_id continent education_of_employee has_job_experience  \\\n",
       "0         EZYV01      Asia           High School                  N   \n",
       "1         EZYV02      Asia              Master's                  Y   \n",
       "2         EZYV03      Asia            Bachelor's                  N   \n",
       "3         EZYV04      Asia            Bachelor's                  N   \n",
       "4         EZYV05    Africa              Master's                  Y   \n",
       "...          ...       ...                   ...                ...   \n",
       "25474  EZYV25475    Africa             Doctorate                  N   \n",
       "25475  EZYV25476      Asia            Bachelor's                  Y   \n",
       "25477  EZYV25478      Asia              Master's                  Y   \n",
       "25478  EZYV25479      Asia              Master's                  Y   \n",
       "25479  EZYV25480      Asia            Bachelor's                  Y   \n",
       "\n",
       "      requires_job_training  no_of_employees  yr_of_estab  \\\n",
       "0                         N            14513         2007   \n",
       "1                         N             2412         2002   \n",
       "2                         Y            44444         2008   \n",
       "3                         N               98         1897   \n",
       "4                         N             1082         2005   \n",
       "...                     ...              ...          ...   \n",
       "25474                     N             2594         1979   \n",
       "25475                     Y             2601         2008   \n",
       "25477                     N             1121         1910   \n",
       "25478                     Y             1918         1887   \n",
       "25479                     N             3195         1960   \n",
       "\n",
       "      region_of_employment  prevailing_wage unit_of_wage full_time_position  \\\n",
       "0                     West         592.2029         Hour                  Y   \n",
       "1                Northeast       83425.6500         Year                  Y   \n",
       "2                     West      122996.8600         Year                  Y   \n",
       "3                     West       83434.0300         Year                  Y   \n",
       "4                    South      149907.3900         Year                  Y   \n",
       "...                    ...              ...          ...                ...   \n",
       "25474            Northeast       51104.7800         Year                  Y   \n",
       "25475                South       77092.5700         Year                  Y   \n",
       "25477                South      146298.8500         Year                  N   \n",
       "25478                 West       86154.7700         Year                  Y   \n",
       "25479              Midwest       70876.9100         Year                  Y   \n",
       "\n",
       "      case_status  \n",
       "0          Denied  \n",
       "1       Certified  \n",
       "2          Denied  \n",
       "3          Denied  \n",
       "4       Certified  \n",
       "...           ...  \n",
       "25474   Certified  \n",
       "25475   Certified  \n",
       "25477   Certified  \n",
       "25478   Certified  \n",
       "25479   Certified  \n",
       "\n",
       "[25053 rows x 12 columns]"
      ]
     },
     "execution_count": 56,
     "metadata": {},
     "output_type": "execute_result"
    }
   ],
   "source": [
    "q1=np.percentile(wage_data,25)\n",
    "q2=np.percentile(wage_data,50)\n",
    "q3=np.percentile(wage_data,75)\n",
    "IQR=q3-q1\n",
    "lb=q1-1.5*IQR\n",
    "ub=q3+1.5*IQR\n",
    "con1=wage_data>lb\n",
    "con2=wage_data<ub\n",
    "con=con1&con2\n",
    "non_outlier_df=(visa_df[con])\n",
    "non_outlier_df"
   ]
  },
  {
   "cell_type": "code",
   "execution_count": 58,
   "id": "ff2b8a4c-49e5-42ae-8c22-fed26476c9ce",
   "metadata": {},
   "outputs": [
    {
     "data": {
      "image/png": "[encoded data removed]",
      "text/plain": [
       "<Figure size 1200x800 with 4 Axes>"
      ]
     },
     "metadata": {},
     "output_type": "display_data"
    }
   ],
   "source": [
    "plt.figure(figsize=(12,8))\n",
    "plt.subplot(2,2,1).hist(outliers_df['prevailing_wage'],bins=40)\n",
    "plt.title('Histogram with Outliers')\n",
    "plt.subplot(2,2,2).hist(non_outlier_df['prevailing_wage'],bins=40)\n",
    "plt.title('Histogram without Outliers')\n",
    "plt.subplot(2,2,3).boxplot(outliers_df['prevailing_wage'],vert=False)\n",
    "plt.title('Boxplot with Outliers')\n",
    "plt.subplot(2,2,4).boxplot(non_outlier_df['prevailing_wage'],vert=False)\n",
    "plt.title('Boxplot without Outliers')\n",
    "plt.show()"
   ]
  },
  {
   "cell_type": "code",
   "execution_count": 59,
   "id": "cf64c80e-fa99-4a19-b00f-b1aca7d79419",
   "metadata": {},
   "outputs": [
    {
     "data": {
      "text/plain": [
       "array([220081.73, 225569.73, 247393.01, 269321.68, 219529.62, 232227.33,\n",
       "       238691.32, 220448.17, 230750.48, 235339.91, 232680.65, 256261.78,\n",
       "       262189.  , 250510.67, 218554.78, 256205.38, 221944.22, 229950.7 ,\n",
       "       222628.84, 229819.69, 233641.72, 274019.43, 218982.83, 230984.28,\n",
       "       223128.23, 246705.  , 240266.34, 226090.72, 231949.27, 254604.08,\n",
       "       288318.91, 244457.48, 242146.48, 247545.23, 234139.17, 231834.72,\n",
       "       222730.57, 239773.63, 220553.95, 237539.32, 266440.49, 277281.01,\n",
       "       275627.59, 249291.12, 292106.59, 234012.11, 247009.24, 267726.09,\n",
       "       222098.09, 280661.13, 277984.52, 262852.71, 263877.21, 230916.64,\n",
       "       264760.64, 267868.56, 222221.67, 242406.32, 276894.08, 281832.93,\n",
       "       221033.57, 258292.84, 223492.85, 245418.67, 250289.08, 271344.69,\n",
       "       252825.11, 230843.7 , 253668.86, 245819.17, 239465.3 , 236316.36,\n",
       "       225268.13, 228941.33, 306021.96, 228074.25, 270799.93, 221982.69,\n",
       "       256903.7 , 242813.07, 253111.05, 268440.33, 225681.78, 233150.41,\n",
       "       307410.02, 227609.87, 248247.63, 244813.07, 233642.47, 246955.19,\n",
       "       304543.67, 236918.29, 229494.55, 228805.91, 250899.07, 259739.35,\n",
       "       240798.56, 238109.72, 281418.03, 239151.61, 280205.27, 272756.53,\n",
       "       298520.02, 242018.37, 250436.94, 254275.73, 254230.21, 237715.74,\n",
       "       235224.73, 232265.54, 259277.18, 271409.44, 232792.93, 259097.55,\n",
       "       249339.52, 238893.91, 234406.36, 253915.96, 238078.87, 231936.29,\n",
       "       222457.51, 255626.72, 247602.36, 227360.23, 284328.96, 219351.89,\n",
       "       248137.05, 273774.05, 246806.65, 225816.56, 277357.78, 238353.7 ,\n",
       "       254858.86, 234856.36, 226588.62, 247935.5 , 226927.95, 225181.88,\n",
       "       240846.68, 240467.47, 248608.01, 261729.62, 227035.49, 278629.2 ,\n",
       "       236523.12, 222416.49, 240193.11, 243086.94, 294258.8 , 224366.03,\n",
       "       254361.39, 247003.95, 244758.73, 284585.2 , 260321.86, 239400.63,\n",
       "       229535.14, 246525.47, 269645.3 , 228937.44, 228767.83, 245999.3 ,\n",
       "       233767.78, 244938.45, 267448.28, 245110.1 , 264564.71, 219128.94,\n",
       "       221860.43, 262556.25, 252003.71, 262314.42, 251730.64, 247876.09,\n",
       "       223185.07, 258044.72, 278708.4 , 264362.95, 258477.93, 272311.21,\n",
       "       289878.68, 227441.23, 245197.29, 248076.5 , 266110.44, 247525.17,\n",
       "       219090.04, 222793.7 , 230919.67, 228715.49, 250163.1 , 268713.5 ,\n",
       "       268737.76, 278409.92, 223098.15, 261496.17, 239894.57, 306206.67,\n",
       "       222276.55, 273009.56, 238662.95, 253698.68, 263466.82, 218318.76,\n",
       "       280175.95, 248668.8 , 234902.2 , 249626.02, 231138.15, 264798.08,\n",
       "       234755.9 , 230566.11, 235429.79, 277104.8 , 240410.79, 315497.6 ,\n",
       "       238065.59, 229565.95, 233013.3 , 229794.44, 220817.57, 228734.21,\n",
       "       256618.11, 226892.03, 243111.61, 251014.23, 230922.38, 248492.44,\n",
       "       232673.86, 257966.97, 233282.32, 225877.49, 259461.84, 255674.94,\n",
       "       259083.16, 250841.05, 261556.56, 219465.03, 273951.68, 294807.32,\n",
       "       220736.86, 265168.9 , 263908.89, 278554.98, 239880.69, 254861.76,\n",
       "       281582.84, 224049.27, 238039.66, 238165.9 , 268110.52, 228645.15,\n",
       "       257781.92, 219284.2 , 318446.05, 307716.1 , 273426.75, 249850.51,\n",
       "       286336.94, 248533.33, 259835.69, 261554.61, 242597.19, 226669.55,\n",
       "       306982.28, 269990.25, 244202.66, 233790.85, 281590.41, 224874.12,\n",
       "       230017.17, 221735.9 , 271877.51, 257916.69, 314156.06, 229874.06,\n",
       "       235694.88, 280155.01, 272286.3 , 266071.13, 237874.32, 251654.81,\n",
       "       280521.57, 263400.  , 224151.28, 275926.27, 273025.14, 227562.89,\n",
       "       229208.81, 284220.42, 246099.93, 219321.41, 221669.11, 230395.29,\n",
       "       221900.52, 245785.16, 294945.51, 236692.29, 236184.68, 249610.99,\n",
       "       257775.44, 239224.53, 221524.92, 254015.02, 281344.22, 297589.88,\n",
       "       221595.07, 226169.32, 287433.9 , 220280.21, 252808.74, 262777.69,\n",
       "       268204.62, 257994.73, 302513.77, 222511.73, 256502.28, 245599.1 ,\n",
       "       224523.8 , 239441.23, 259556.53, 245890.1 , 233990.98, 240153.33,\n",
       "       221588.52, 223357.39, 266821.59, 247248.66, 230431.69, 240099.97,\n",
       "       255771.26, 247560.19, 267189.12, 234330.77, 287191.2 , 219056.42,\n",
       "       232389.85, 221498.71, 266813.88, 232473.44, 222868.81, 241680.07,\n",
       "       284205.22, 241811.15, 240301.92, 254522.41, 221354.25, 247084.9 ,\n",
       "       238778.59, 223837.82, 219968.65, 232462.72, 311734.49, 319210.27,\n",
       "       225324.61, 242673.44, 242507.42, 244049.04, 274436.62, 240609.17,\n",
       "       231149.93, 218826.  , 255033.75, 228520.51, 285088.16, 221058.13,\n",
       "       235454.33, 285256.54, 222177.4 , 232933.22, 239617.43, 233585.11,\n",
       "       249452.91, 227133.68, 239600.76, 242466.81, 225057.61, 278250.32,\n",
       "       241928.36, 250319.73, 225036.07, 249907.87, 252692.71, 264947.49,\n",
       "       223062.79, 229456.89, 249394.83, 238788.29, 225440.67, 221757.19,\n",
       "       218823.72, 240922.83, 232029.62, 254157.54, 270184.42, 238178.7 ,\n",
       "       227683.38, 270599.15, 232111.27, 264303.76, 243190.47, 226982.69,\n",
       "       230428.5 , 275211.23, 232068.71, 231426.9 , 223673.34, 252661.63,\n",
       "       242247.08, 235875.97, 229568.14, 247355.35, 265969.8 , 231545.19,\n",
       "       232467.06, 247626.74, 242347.14, 220664.53, 248375.16, 218488.72,\n",
       "       236625.64, 268376.5 , 280482.51, 234308.77, 272715.74, 273772.47,\n",
       "       279174.79])"
      ]
     },
     "execution_count": 59,
     "metadata": {},
     "output_type": "execute_result"
    }
   ],
   "source": [
    "outliers_df\n",
    "outliers_df['prevailing_wage'].values"
   ]
  },
  {
   "cell_type": "code",
   "execution_count": 62,
   "id": "67268b8e-ff38-4d4c-bffc-858308665a58",
   "metadata": {},
   "outputs": [],
   "source": [
    "outliers_wage_data=outliers_df['prevailing_wage'].values\n",
    "list1=[]\n",
    "wage_data=visa_df['prevailing_wage'].values\n",
    "wage_median=visa_df['prevailing_wage'].median()\n",
    "for i in wage_data:\n",
    "    if i in outliers_wage_data:\n",
    "        list1.append(wage_median)\n",
    "    else:\n",
    "        list1.append(i)\n",
    "\n",
    "visa_df['p_wage']=list1"
   ]
  },
  {
   "cell_type": "code",
   "execution_count": 64,
   "id": "54e73fdb-05ac-40a5-ab7d-bb703637091d",
   "metadata": {},
   "outputs": [
    {
     "data": {
      "image/png": "[encoded data removed]",
      "text/plain": [
       "<Figure size 1200x800 with 4 Axes>"
      ]
     },
     "metadata": {},
     "output_type": "display_data"
    }
   ],
   "source": [
    "plt.figure(figsize=(12,8))\n",
    "plt.subplot(2,2,1).hist(visa_df['prevailing_wage'],bins=40)\n",
    "plt.title('Histogram with Outliers')\n",
    "plt.subplot(2,2,2).hist(visa_df['p_wage'],bins=40)\n",
    "plt.title('Histogram with Median')\n",
    "plt.subplot(2,2,3).boxplot(visa_df['prevailing_wage'],vert=False)\n",
    "plt.title('Boxplot with Outliers')\n",
    "plt.subplot(2,2,4).boxplot(visa_df['p_wage'],vert=False)\n",
    "plt.title('Boxplot with Median')\n",
    "plt.show()"
   ]
  },
  {
   "cell_type": "code",
   "execution_count": 69,
   "id": "cdb2f187-86a0-41b5-9f0c-5c4a0ec2a1ea",
   "metadata": {},
   "outputs": [
    {
     "data": {
      "image/png": "[encoded data removed]",
      "text/plain": [
       "<Figure size 2400x600 with 4 Axes>"
      ]
     },
     "metadata": {},
     "output_type": "display_data"
    },
    {
     "data": {
      "image/png": "[encoded data removed]",
      "text/plain": [
       "<Figure size 2400x600 with 4 Axes>"
      ]
     },
     "metadata": {},
     "output_type": "display_data"
    }
   ],
   "source": [
    "import matplotlib.pyplot as plt\n",
    "plt.figure(figsize=(24, 6)) \n",
    "plt.subplot(1, 4, 1)\n",
    "plt.hist(outliers_df['prevailing_wage'], bins=40)\n",
    "plt.title('Histogram with Outliers')\n",
    "plt.subplot(1, 4, 2)\n",
    "plt.hist(non_outlier_df['prevailing_wage'], bins=40)\n",
    "plt.title('Histogram without Outliers')\n",
    "plt.subplot(1, 4, 3)\n",
    "plt.hist(visa_df['prevailing_wage'], bins=40)\n",
    "plt.title('Histogram with Outliers')\n",
    "plt.subplot(1, 4, 4)\n",
    "plt.hist(visa_df['p_wage'], bins=40)\n",
    "plt.title('Histogram with median')\n",
    "plt.tight_layout()\n",
    "plt.show()\n",
    "plt.figure(figsize=(24, 6))\n",
    "plt.subplot(1, 4, 1)\n",
    "plt.boxplot(outliers_df['prevailing_wage'], vert=False)\n",
    "plt.title('Boxplot with Outliers')\n",
    "plt.subplot(1, 4, 2)\n",
    "plt.boxplot(non_outlier_df['prevailing_wage'], vert=False)\n",
    "plt.title('Boxplot without Outliers')\n",
    "plt.subplot(1, 4, 3)\n",
    "plt.boxplot(visa_df['prevailing_wage'], vert=False)\n",
    "plt.title('Boxplot with outliers')\n",
    "plt.subplot(1, 4, 4)\n",
    "plt.boxplot(visa_df['p_wage'], vert=False)\n",
    "plt.title('Boxplot with Median')\n",
    "\n",
    "\n",
    "plt.tight_layout()\n",
    "plt.show()\n"
   ]
  },
  {
   "cell_type": "code",
   "execution_count": null,
   "id": "86ec2055-ddcc-48ad-a608-f00f27ac84ce",
   "metadata": {},
   "outputs": [],
   "source": []
  },
  {
   "cell_type": "code",
   "execution_count": null,
   "id": "93fe8180-8a31-4787-a3c9-0ee14ed9f49e",
   "metadata": {},
   "outputs": [],
   "source": []
  }
 ],
 "metadata": {
  "kernelspec": {
   "display_name": "Python [conda env:base] *",
   "language": "python",
   "name": "conda-base-py"
  },
  "language_info": {
   "codemirror_mode": {
    "name": "ipython",
    "version": 3
   },
   "file_extension": ".py",
   "mimetype": "text/x-python",
   "name": "python",
   "nbconvert_exporter": "python",
   "pygments_lexer": "ipython3",
   "version": "3.12.7"
  }
 },
 "nbformat": 4,
 "nbformat_minor": 5
}
