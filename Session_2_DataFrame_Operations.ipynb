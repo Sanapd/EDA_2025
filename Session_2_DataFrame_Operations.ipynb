{
 "cells": [
  {
   "cell_type": "code",
   "execution_count": 5,
   "id": "33ba25ab-d591-4df8-81d1-ca94a4fa9ef0",
   "metadata": {},
   "outputs": [],
   "source": [
    "import pandas as pd\n",
    "import numpy as np\n",
    "import matplotlib.pyplot as plt\n",
    "import seaborn as sns"
   ]
  },
  {
   "cell_type": "code",
   "execution_count": 6,
   "id": "d18d4bfa-a97d-42e2-9517-677293337198",
   "metadata": {},
   "outputs": [],
   "source": [
    "visa_df=pd.read_csv(r'C:\\Users\\HP\\Documents\\NARESHIT\\visadataset.csv')"
   ]
  },
  {
   "cell_type": "code",
   "execution_count": 7,
   "id": "ae53026b-4908-43d2-b2ff-582dd5416c3e",
   "metadata": {},
   "outputs": [],
   "source": [
    "bank_df=pd.read_csv(r'C:\\Users\\HP\\Documents\\NARESHIT\\Python sessions\\bank.csv',\n",
    "                    sep=';')"
   ]
  },
  {
   "cell_type": "markdown",
   "id": "1147bf8d-8fc1-4dd9-a5d5-8deebf702d6a",
   "metadata": {},
   "source": [
    "- shape \n",
    "\n",
    "- size\n",
    "\n",
    "- len\n",
    "\n",
    "- columns\n",
    "\n",
    "- dtypes\n",
    "\n",
    "- isnull\n",
    "\n",
    "- info"
   ]
  },
  {
   "cell_type": "code",
   "execution_count": 11,
   "id": "a46605ac-9edb-46bb-a418-9765744ba645",
   "metadata": {},
   "outputs": [
    {
     "data": {
      "text/plain": [
       "(25480, 12)"
      ]
     },
     "execution_count": 11,
     "metadata": {},
     "output_type": "execute_result"
    }
   ],
   "source": [
    "visa_df.shape"
   ]
  },
  {
   "cell_type": "code",
   "execution_count": 13,
   "id": "c3a59015-b623-4579-8953-242dc20a7f05",
   "metadata": {},
   "outputs": [
    {
     "data": {
      "text/plain": [
       "case_id                   object\n",
       "continent                 object\n",
       "education_of_employee     object\n",
       "has_job_experience        object\n",
       "requires_job_training     object\n",
       "no_of_employees            int64\n",
       "yr_of_estab                int64\n",
       "region_of_employment      object\n",
       "prevailing_wage          float64\n",
       "unit_of_wage              object\n",
       "full_time_position        object\n",
       "case_status               object\n",
       "dtype: object"
      ]
     },
     "execution_count": 13,
     "metadata": {},
     "output_type": "execute_result"
    }
   ],
   "source": [
    "visa_df.dtypes"
   ]
  },
  {
   "cell_type": "code",
   "execution_count": 15,
   "id": "828ba747-8bde-40f9-99e8-0151d39bcb73",
   "metadata": {},
   "outputs": [
    {
     "data": {
      "text/plain": [
       "pandas.core.frame.DataFrame"
      ]
     },
     "execution_count": 15,
     "metadata": {},
     "output_type": "execute_result"
    }
   ],
   "source": [
    "type(visa_df)"
   ]
  },
  {
   "cell_type": "code",
   "execution_count": 22,
   "id": "cda6df1b-b096-4c34-94b3-1b31f0d86b45",
   "metadata": {},
   "outputs": [
    {
     "data": {
      "text/plain": [
       "Index(['age', 'job', 'marital', 'education', 'default', 'balance', 'housing',\n",
       "       'loan', 'contact', 'day', 'month', 'duration', 'campaign', 'pdays',\n",
       "       'previous', 'poutcome', 'y'],\n",
       "      dtype='object')"
      ]
     },
     "execution_count": 22,
     "metadata": {},
     "output_type": "execute_result"
    }
   ],
   "source": [
    "bank_df.columns"
   ]
  },
  {
   "cell_type": "code",
   "execution_count": 17,
   "id": "49f0d28e-4ebf-49d6-8a53-0bc785ed9d89",
   "metadata": {},
   "outputs": [
    {
     "data": {
      "text/plain": [
       "pandas.core.series.Series"
      ]
     },
     "execution_count": 17,
     "metadata": {},
     "output_type": "execute_result"
    }
   ],
   "source": [
    "type(visa_df.dtypes)\n"
   ]
  },
  {
   "cell_type": "markdown",
   "id": "3b74995e-798a-4a23-967b-810231acd18f",
   "metadata": {},
   "source": [
    "- Series looks like dataframe\n",
    "\n",
    "- Dataframe has column names matrix kind\n",
    "\n",
    "- Series only index and its value\n",
    "\n",
    "- Series like a dictionary key and values"
   ]
  },
  {
   "cell_type": "code",
   "execution_count": 19,
   "id": "40643a0b-90a1-4cec-b5ef-44a84dc85481",
   "metadata": {},
   "outputs": [
    {
     "data": {
      "text/plain": [
       "Index(['case_id', 'continent', 'education_of_employee', 'has_job_experience',\n",
       "       'requires_job_training', 'no_of_employees', 'yr_of_estab',\n",
       "       'region_of_employment', 'prevailing_wage', 'unit_of_wage',\n",
       "       'full_time_position', 'case_status'],\n",
       "      dtype='object')"
      ]
     },
     "execution_count": 19,
     "metadata": {},
     "output_type": "execute_result"
    }
   ],
   "source": [
    "visa_df.dtypes.keys()"
   ]
  },
  {
   "cell_type": "code",
   "execution_count": 23,
   "id": "9e140d67-ffda-4e5d-adaa-a17bd09299e4",
   "metadata": {},
   "outputs": [
    {
     "data": {
      "text/plain": [
       "array([dtype('O'), dtype('O'), dtype('O'), dtype('O'), dtype('O'),\n",
       "       dtype('int64'), dtype('int64'), dtype('O'), dtype('float64'),\n",
       "       dtype('O'), dtype('O'), dtype('O')], dtype=object)"
      ]
     },
     "execution_count": 23,
     "metadata": {},
     "output_type": "execute_result"
    }
   ],
   "source": [
    "visa_df.dtypes.values"
   ]
  },
  {
   "cell_type": "code",
   "execution_count": 25,
   "id": "f82f569e-dfe1-4bf5-8d8f-6649731e986c",
   "metadata": {},
   "outputs": [
    {
     "data": {
      "text/plain": [
       "[('case_id', dtype('O')),\n",
       " ('continent', dtype('O')),\n",
       " ('education_of_employee', dtype('O')),\n",
       " ('has_job_experience', dtype('O')),\n",
       " ('requires_job_training', dtype('O')),\n",
       " ('no_of_employees', dtype('int64')),\n",
       " ('yr_of_estab', dtype('int64')),\n",
       " ('region_of_employment', dtype('O')),\n",
       " ('prevailing_wage', dtype('float64')),\n",
       " ('unit_of_wage', dtype('O')),\n",
       " ('full_time_position', dtype('O')),\n",
       " ('case_status', dtype('O'))]"
      ]
     },
     "execution_count": 25,
     "metadata": {},
     "output_type": "execute_result"
    }
   ],
   "source": [
    "list(visa_df.dtypes.items())"
   ]
  },
  {
   "cell_type": "markdown",
   "id": "bd62faed-0764-4ff6-9b81-eb38fb3858a8",
   "metadata": {},
   "source": [
    "**Make a Dataframe**"
   ]
  },
  {
   "cell_type": "code",
   "execution_count": 27,
   "id": "7043f312-5184-455c-acc3-4f2d0148e327",
   "metadata": {},
   "outputs": [
    {
     "data": {
      "text/html": [
       "<div>\n",
       "<style scoped>\n",
       "    .dataframe tbody tr th:only-of-type {\n",
       "        vertical-align: middle;\n",
       "    }\n",
       "\n",
       "    .dataframe tbody tr th {\n",
       "        vertical-align: top;\n",
       "    }\n",
       "\n",
       "    .dataframe thead th {\n",
       "        text-align: right;\n",
       "    }\n",
       "</style>\n",
       "<table border=\"1\" class=\"dataframe\">\n",
       "  <thead>\n",
       "    <tr style=\"text-align: right;\">\n",
       "      <th></th>\n",
       "      <th>0</th>\n",
       "    </tr>\n",
       "  </thead>\n",
       "  <tbody>\n",
       "    <tr>\n",
       "      <th>case_id</th>\n",
       "      <td>object</td>\n",
       "    </tr>\n",
       "    <tr>\n",
       "      <th>continent</th>\n",
       "      <td>object</td>\n",
       "    </tr>\n",
       "    <tr>\n",
       "      <th>education_of_employee</th>\n",
       "      <td>object</td>\n",
       "    </tr>\n",
       "    <tr>\n",
       "      <th>has_job_experience</th>\n",
       "      <td>object</td>\n",
       "    </tr>\n",
       "    <tr>\n",
       "      <th>requires_job_training</th>\n",
       "      <td>object</td>\n",
       "    </tr>\n",
       "    <tr>\n",
       "      <th>no_of_employees</th>\n",
       "      <td>int64</td>\n",
       "    </tr>\n",
       "    <tr>\n",
       "      <th>yr_of_estab</th>\n",
       "      <td>int64</td>\n",
       "    </tr>\n",
       "    <tr>\n",
       "      <th>region_of_employment</th>\n",
       "      <td>object</td>\n",
       "    </tr>\n",
       "    <tr>\n",
       "      <th>prevailing_wage</th>\n",
       "      <td>float64</td>\n",
       "    </tr>\n",
       "    <tr>\n",
       "      <th>unit_of_wage</th>\n",
       "      <td>object</td>\n",
       "    </tr>\n",
       "    <tr>\n",
       "      <th>full_time_position</th>\n",
       "      <td>object</td>\n",
       "    </tr>\n",
       "    <tr>\n",
       "      <th>case_status</th>\n",
       "      <td>object</td>\n",
       "    </tr>\n",
       "  </tbody>\n",
       "</table>\n",
       "</div>"
      ],
      "text/plain": [
       "                             0\n",
       "case_id                 object\n",
       "continent               object\n",
       "education_of_employee   object\n",
       "has_job_experience      object\n",
       "requires_job_training   object\n",
       "no_of_employees          int64\n",
       "yr_of_estab              int64\n",
       "region_of_employment    object\n",
       "prevailing_wage        float64\n",
       "unit_of_wage            object\n",
       "full_time_position      object\n",
       "case_status             object"
      ]
     },
     "execution_count": 27,
     "metadata": {},
     "output_type": "execute_result"
    }
   ],
   "source": [
    "pd.DataFrame(visa_df.dtypes)"
   ]
  },
  {
   "cell_type": "code",
   "execution_count": 29,
   "id": "ce7d92e3-9bee-4cea-821c-b00e4e93fce7",
   "metadata": {},
   "outputs": [
    {
     "data": {
      "text/html": [
       "<div>\n",
       "<style scoped>\n",
       "    .dataframe tbody tr th:only-of-type {\n",
       "        vertical-align: middle;\n",
       "    }\n",
       "\n",
       "    .dataframe tbody tr th {\n",
       "        vertical-align: top;\n",
       "    }\n",
       "\n",
       "    .dataframe thead th {\n",
       "        text-align: right;\n",
       "    }\n",
       "</style>\n",
       "<table border=\"1\" class=\"dataframe\">\n",
       "  <thead>\n",
       "    <tr style=\"text-align: right;\">\n",
       "      <th></th>\n",
       "      <th>Column name</th>\n",
       "      <th>Data type</th>\n",
       "    </tr>\n",
       "  </thead>\n",
       "  <tbody>\n",
       "    <tr>\n",
       "      <th>0</th>\n",
       "      <td>case_id</td>\n",
       "      <td>object</td>\n",
       "    </tr>\n",
       "    <tr>\n",
       "      <th>1</th>\n",
       "      <td>continent</td>\n",
       "      <td>object</td>\n",
       "    </tr>\n",
       "    <tr>\n",
       "      <th>2</th>\n",
       "      <td>education_of_employee</td>\n",
       "      <td>object</td>\n",
       "    </tr>\n",
       "    <tr>\n",
       "      <th>3</th>\n",
       "      <td>has_job_experience</td>\n",
       "      <td>object</td>\n",
       "    </tr>\n",
       "    <tr>\n",
       "      <th>4</th>\n",
       "      <td>requires_job_training</td>\n",
       "      <td>object</td>\n",
       "    </tr>\n",
       "    <tr>\n",
       "      <th>5</th>\n",
       "      <td>no_of_employees</td>\n",
       "      <td>int64</td>\n",
       "    </tr>\n",
       "    <tr>\n",
       "      <th>6</th>\n",
       "      <td>yr_of_estab</td>\n",
       "      <td>int64</td>\n",
       "    </tr>\n",
       "    <tr>\n",
       "      <th>7</th>\n",
       "      <td>region_of_employment</td>\n",
       "      <td>object</td>\n",
       "    </tr>\n",
       "    <tr>\n",
       "      <th>8</th>\n",
       "      <td>prevailing_wage</td>\n",
       "      <td>float64</td>\n",
       "    </tr>\n",
       "    <tr>\n",
       "      <th>9</th>\n",
       "      <td>unit_of_wage</td>\n",
       "      <td>object</td>\n",
       "    </tr>\n",
       "    <tr>\n",
       "      <th>10</th>\n",
       "      <td>full_time_position</td>\n",
       "      <td>object</td>\n",
       "    </tr>\n",
       "    <tr>\n",
       "      <th>11</th>\n",
       "      <td>case_status</td>\n",
       "      <td>object</td>\n",
       "    </tr>\n",
       "  </tbody>\n",
       "</table>\n",
       "</div>"
      ],
      "text/plain": [
       "              Column name Data type\n",
       "0                 case_id    object\n",
       "1               continent    object\n",
       "2   education_of_employee    object\n",
       "3      has_job_experience    object\n",
       "4   requires_job_training    object\n",
       "5         no_of_employees     int64\n",
       "6             yr_of_estab     int64\n",
       "7    region_of_employment    object\n",
       "8         prevailing_wage   float64\n",
       "9            unit_of_wage    object\n",
       "10     full_time_position    object\n",
       "11            case_status    object"
      ]
     },
     "execution_count": 29,
     "metadata": {},
     "output_type": "execute_result"
    }
   ],
   "source": [
    "keys=visa_df.dtypes.keys()\n",
    "values=visa_df.dtypes.values\n",
    "pd.DataFrame(zip(keys,values),\n",
    "            columns=['Column name','Data type'])"
   ]
  },
  {
   "cell_type": "markdown",
   "id": "089bba18-6577-474b-910d-9bfcc2f2c794",
   "metadata": {},
   "source": [
    "- When we have a dictionary \n",
    "\n",
    "- First makes in to keys and values separate\n",
    "\n",
    "- Then create a dataframe "
   ]
  },
  {
   "cell_type": "markdown",
   "id": "b2051711-472b-4d34-8cb2-01479317123a",
   "metadata": {},
   "source": [
    "**Task-1: Separate categorical columns and numerical columns**"
   ]
  },
  {
   "cell_type": "code",
   "execution_count": 31,
   "id": "ccd031e3-d868-4a42-ae60-a558405a6ef6",
   "metadata": {},
   "outputs": [
    {
     "name": "stdout",
     "output_type": "stream",
     "text": [
      "1\n",
      "2\n"
     ]
    }
   ],
   "source": [
    "dict1={'A':1,\n",
    "      'B':2,\n",
    "      'a':3,\n",
    "      'b':4}\n",
    "for i,j in dict1.items():\n",
    "    #print(i,j)\n",
    "    if i.isupper():\n",
    "        print(j)"
   ]
  },
  {
   "cell_type": "code",
   "execution_count": 84,
   "id": "e926399d-8b11-44ef-a821-7123e7abe6fb",
   "metadata": {},
   "outputs": [],
   "source": [
    "dtypes=dict(visa_df.dtypes)\n",
    "cat,num=[],[]\n",
    "for i,j in dtypes.items():\n",
    "    if j=='object':\n",
    "        cat.append(i)\n",
    "    else:\n",
    "        num.append(i)"
   ]
  },
  {
   "cell_type": "code",
   "execution_count": 33,
   "id": "ef4e8050-1180-4fdd-b83a-1226231baf6a",
   "metadata": {},
   "outputs": [
    {
     "data": {
      "text/plain": [
       "{'case_id': dtype('O'),\n",
       " 'continent': dtype('O'),\n",
       " 'education_of_employee': dtype('O'),\n",
       " 'has_job_experience': dtype('O'),\n",
       " 'requires_job_training': dtype('O'),\n",
       " 'no_of_employees': dtype('int64'),\n",
       " 'yr_of_estab': dtype('int64'),\n",
       " 'region_of_employment': dtype('O'),\n",
       " 'prevailing_wage': dtype('float64'),\n",
       " 'unit_of_wage': dtype('O'),\n",
       " 'full_time_position': dtype('O'),\n",
       " 'case_status': dtype('O')}"
      ]
     },
     "execution_count": 33,
     "metadata": {},
     "output_type": "execute_result"
    }
   ],
   "source": [
    "dict(visa_df.dtypes)\n",
    "# iterate two i,j\n",
    "# apply the condition\n",
    "# if j=='object'\n",
    "# append i in a list\n",
    "# else\n",
    "#  append i in list "
   ]
  },
  {
   "cell_type": "code",
   "execution_count": 35,
   "id": "5a85de76-2939-4871-a6fd-84ca716d352f",
   "metadata": {},
   "outputs": [],
   "source": [
    "dtypes=dict(visa_df.dtypes)\n",
    "cat,num=[],[]\n",
    "for i,j in dtypes.items():\n",
    "    if j=='object':\n",
    "        cat.append(i)\n",
    "    else:\n",
    "        num.append(i)"
   ]
  },
  {
   "cell_type": "code",
   "execution_count": 37,
   "id": "d25ba4c8-ea65-418f-9008-22a99d245996",
   "metadata": {},
   "outputs": [],
   "source": [
    "dtypes=dict(visa_df.dtypes)\n",
    "cat=[i for i,j in dtypes.items() if j=='object']\n",
    "num=[i for i,j in dtypes.items() if j!='object']"
   ]
  },
  {
   "cell_type": "markdown",
   "id": "662134c6-65d6-4aa1-8c00-069c8c2e3c22",
   "metadata": {},
   "source": [
    "**Select_dtypes**"
   ]
  },
  {
   "cell_type": "code",
   "execution_count": 39,
   "id": "0c8eacfc-d95a-40e6-ae1d-177f5fdcec6f",
   "metadata": {},
   "outputs": [],
   "source": [
    "cat=visa_df.select_dtypes(include='object').columns"
   ]
  },
  {
   "cell_type": "code",
   "execution_count": 41,
   "id": "3377b43b-ff39-48a4-beb8-700beb4c8d83",
   "metadata": {},
   "outputs": [],
   "source": [
    "num=visa_df.select_dtypes(exclude='object').columns"
   ]
  },
  {
   "cell_type": "markdown",
   "id": "7c3cd565-603a-4e22-98c6-2c61487a1970",
   "metadata": {},
   "source": [
    "- Import the packages\n",
    "\n",
    "- Read the data\n",
    "\n",
    "- Selectedtypes"
   ]
  },
  {
   "cell_type": "markdown",
   "id": "16014f11-4e6f-4ca7-9bea-b9b4a5e6f982",
   "metadata": {},
   "source": [
    "**Data selection**"
   ]
  },
  {
   "cell_type": "markdown",
   "id": "f73def9b-ff79-4225-b40c-7cb57852fdfc",
   "metadata": {},
   "source": [
    "- take\n",
    "\n",
    "- loc\n",
    "\n",
    "- iloc"
   ]
  },
  {
   "cell_type": "code",
   "execution_count": 43,
   "id": "88b587bc-a4b3-4ddb-8976-1c92db7b40b2",
   "metadata": {},
   "outputs": [
    {
     "data": {
      "text/html": [
       "<div>\n",
       "<style scoped>\n",
       "    .dataframe tbody tr th:only-of-type {\n",
       "        vertical-align: middle;\n",
       "    }\n",
       "\n",
       "    .dataframe tbody tr th {\n",
       "        vertical-align: top;\n",
       "    }\n",
       "\n",
       "    .dataframe thead th {\n",
       "        text-align: right;\n",
       "    }\n",
       "</style>\n",
       "<table border=\"1\" class=\"dataframe\">\n",
       "  <thead>\n",
       "    <tr style=\"text-align: right;\">\n",
       "      <th></th>\n",
       "      <th>case_id</th>\n",
       "      <th>continent</th>\n",
       "      <th>education_of_employee</th>\n",
       "      <th>has_job_experience</th>\n",
       "      <th>requires_job_training</th>\n",
       "      <th>no_of_employees</th>\n",
       "      <th>yr_of_estab</th>\n",
       "      <th>region_of_employment</th>\n",
       "      <th>prevailing_wage</th>\n",
       "      <th>unit_of_wage</th>\n",
       "      <th>full_time_position</th>\n",
       "      <th>case_status</th>\n",
       "    </tr>\n",
       "  </thead>\n",
       "  <tbody>\n",
       "    <tr>\n",
       "      <th>100</th>\n",
       "      <td>EZYV101</td>\n",
       "      <td>Asia</td>\n",
       "      <td>Master's</td>\n",
       "      <td>Y</td>\n",
       "      <td>N</td>\n",
       "      <td>2227</td>\n",
       "      <td>2007</td>\n",
       "      <td>Northeast</td>\n",
       "      <td>28243.79</td>\n",
       "      <td>Year</td>\n",
       "      <td>Y</td>\n",
       "      <td>Certified</td>\n",
       "    </tr>\n",
       "    <tr>\n",
       "      <th>200</th>\n",
       "      <td>EZYV201</td>\n",
       "      <td>Asia</td>\n",
       "      <td>Doctorate</td>\n",
       "      <td>Y</td>\n",
       "      <td>N</td>\n",
       "      <td>3282</td>\n",
       "      <td>1979</td>\n",
       "      <td>West</td>\n",
       "      <td>74441.11</td>\n",
       "      <td>Year</td>\n",
       "      <td>Y</td>\n",
       "      <td>Certified</td>\n",
       "    </tr>\n",
       "    <tr>\n",
       "      <th>300</th>\n",
       "      <td>EZYV301</td>\n",
       "      <td>Asia</td>\n",
       "      <td>Master's</td>\n",
       "      <td>Y</td>\n",
       "      <td>N</td>\n",
       "      <td>3268</td>\n",
       "      <td>2012</td>\n",
       "      <td>Midwest</td>\n",
       "      <td>101371.21</td>\n",
       "      <td>Year</td>\n",
       "      <td>Y</td>\n",
       "      <td>Certified</td>\n",
       "    </tr>\n",
       "  </tbody>\n",
       "</table>\n",
       "</div>"
      ],
      "text/plain": [
       "     case_id continent education_of_employee has_job_experience  \\\n",
       "100  EZYV101      Asia              Master's                  Y   \n",
       "200  EZYV201      Asia             Doctorate                  Y   \n",
       "300  EZYV301      Asia              Master's                  Y   \n",
       "\n",
       "    requires_job_training  no_of_employees  yr_of_estab region_of_employment  \\\n",
       "100                     N             2227         2007            Northeast   \n",
       "200                     N             3282         1979                 West   \n",
       "300                     N             3268         2012              Midwest   \n",
       "\n",
       "     prevailing_wage unit_of_wage full_time_position case_status  \n",
       "100         28243.79         Year                  Y   Certified  \n",
       "200         74441.11         Year                  Y   Certified  \n",
       "300        101371.21         Year                  Y   Certified  "
      ]
     },
     "execution_count": 43,
     "metadata": {},
     "output_type": "execute_result"
    }
   ],
   "source": [
    "# select 100,200,300 rows data\n",
    "rows=[100,200,300]\n",
    "visa_df.take(rows,axis=0)"
   ]
  },
  {
   "cell_type": "code",
   "execution_count": 45,
   "id": "d83396dc-e98e-45e0-91d9-9a75f23f26e1",
   "metadata": {},
   "outputs": [
    {
     "data": {
      "text/plain": [
       "Index(['case_id', 'continent', 'education_of_employee', 'has_job_experience',\n",
       "       'requires_job_training', 'no_of_employees', 'yr_of_estab',\n",
       "       'region_of_employment', 'prevailing_wage', 'unit_of_wage',\n",
       "       'full_time_position', 'case_status'],\n",
       "      dtype='object')"
      ]
     },
     "execution_count": 45,
     "metadata": {},
     "output_type": "execute_result"
    }
   ],
   "source": [
    "visa_df.columns"
   ]
  },
  {
   "cell_type": "code",
   "execution_count": 47,
   "id": "86a4ed42-f508-4a31-bf8e-b357360026d1",
   "metadata": {},
   "outputs": [
    {
     "data": {
      "text/html": [
       "<div>\n",
       "<style scoped>\n",
       "    .dataframe tbody tr th:only-of-type {\n",
       "        vertical-align: middle;\n",
       "    }\n",
       "\n",
       "    .dataframe tbody tr th {\n",
       "        vertical-align: top;\n",
       "    }\n",
       "\n",
       "    .dataframe thead th {\n",
       "        text-align: right;\n",
       "    }\n",
       "</style>\n",
       "<table border=\"1\" class=\"dataframe\">\n",
       "  <thead>\n",
       "    <tr style=\"text-align: right;\">\n",
       "      <th></th>\n",
       "      <th>continent</th>\n",
       "      <th>no_of_employees</th>\n",
       "    </tr>\n",
       "  </thead>\n",
       "  <tbody>\n",
       "    <tr>\n",
       "      <th>100</th>\n",
       "      <td>Asia</td>\n",
       "      <td>2227</td>\n",
       "    </tr>\n",
       "    <tr>\n",
       "      <th>200</th>\n",
       "      <td>Asia</td>\n",
       "      <td>3282</td>\n",
       "    </tr>\n",
       "    <tr>\n",
       "      <th>300</th>\n",
       "      <td>Asia</td>\n",
       "      <td>3268</td>\n",
       "    </tr>\n",
       "  </tbody>\n",
       "</table>\n",
       "</div>"
      ],
      "text/plain": [
       "    continent  no_of_employees\n",
       "100      Asia             2227\n",
       "200      Asia             3282\n",
       "300      Asia             3268"
      ]
     },
     "execution_count": 47,
     "metadata": {},
     "output_type": "execute_result"
    }
   ],
   "source": [
    "cols=[1,5]\n",
    "visa_df.take(cols,axis=1).take(rows,axis=0)"
   ]
  },
  {
   "cell_type": "markdown",
   "id": "bb05e918-ff50-45df-9129-ccc60a2bd223",
   "metadata": {},
   "source": [
    "- Manual counting index of columns \n",
    "\n",
    "- At a time i can not select rows and columns we need to do two takes"
   ]
  },
  {
   "cell_type": "markdown",
   "id": "cb2d0ee4-1bc3-46db-8780-18d4851b0ae3",
   "metadata": {},
   "source": [
    "**iloc**"
   ]
  },
  {
   "cell_type": "markdown",
   "id": "71a1ce49-221f-4dc4-a628-bc75b1105126",
   "metadata": {},
   "source": [
    "iloc[rows,columns]\n",
    "\n",
    "iloc[start:stop:step,start:stop:step]"
   ]
  },
  {
   "cell_type": "code",
   "execution_count": 49,
   "id": "0007f186-bbe5-4387-955b-bb8ada0197db",
   "metadata": {},
   "outputs": [
    {
     "data": {
      "text/html": [
       "<div>\n",
       "<style scoped>\n",
       "    .dataframe tbody tr th:only-of-type {\n",
       "        vertical-align: middle;\n",
       "    }\n",
       "\n",
       "    .dataframe tbody tr th {\n",
       "        vertical-align: top;\n",
       "    }\n",
       "\n",
       "    .dataframe thead th {\n",
       "        text-align: right;\n",
       "    }\n",
       "</style>\n",
       "<table border=\"1\" class=\"dataframe\">\n",
       "  <thead>\n",
       "    <tr style=\"text-align: right;\">\n",
       "      <th></th>\n",
       "      <th>education_of_employee</th>\n",
       "      <th>has_job_experience</th>\n",
       "      <th>requires_job_training</th>\n",
       "    </tr>\n",
       "  </thead>\n",
       "  <tbody>\n",
       "    <tr>\n",
       "      <th>1</th>\n",
       "      <td>Master's</td>\n",
       "      <td>Y</td>\n",
       "      <td>N</td>\n",
       "    </tr>\n",
       "    <tr>\n",
       "      <th>2</th>\n",
       "      <td>Bachelor's</td>\n",
       "      <td>N</td>\n",
       "      <td>Y</td>\n",
       "    </tr>\n",
       "    <tr>\n",
       "      <th>3</th>\n",
       "      <td>Bachelor's</td>\n",
       "      <td>N</td>\n",
       "      <td>N</td>\n",
       "    </tr>\n",
       "    <tr>\n",
       "      <th>4</th>\n",
       "      <td>Master's</td>\n",
       "      <td>Y</td>\n",
       "      <td>N</td>\n",
       "    </tr>\n",
       "  </tbody>\n",
       "</table>\n",
       "</div>"
      ],
      "text/plain": [
       "  education_of_employee has_job_experience requires_job_training\n",
       "1              Master's                  Y                     N\n",
       "2            Bachelor's                  N                     Y\n",
       "3            Bachelor's                  N                     N\n",
       "4              Master's                  Y                     N"
      ]
     },
     "execution_count": 49,
     "metadata": {},
     "output_type": "execute_result"
    }
   ],
   "source": [
    "visa_df.iloc[1:5,2:5]"
   ]
  },
  {
   "cell_type": "code",
   "execution_count": 51,
   "id": "3c9c0e89-71d9-4207-8498-a10936b39f46",
   "metadata": {},
   "outputs": [
    {
     "data": {
      "text/plain": [
       "case_id                     EZYV06\n",
       "continent                     Asia\n",
       "education_of_employee     Master's\n",
       "has_job_experience               Y\n",
       "requires_job_training            N\n",
       "no_of_employees               2339\n",
       "yr_of_estab                   2012\n",
       "region_of_employment         South\n",
       "prevailing_wage           78252.14\n",
       "unit_of_wage                  Year\n",
       "full_time_position               Y\n",
       "case_status              Certified\n",
       "Name: 5, dtype: object"
      ]
     },
     "execution_count": 51,
     "metadata": {},
     "output_type": "execute_result"
    }
   ],
   "source": [
    "visa_df.iloc[1:5,5] # w\n",
    "visa_df.iloc[4,2:5] # w\n",
    "visa_df.iloc[1:5,[2,6,7]] # w\n",
    "visa_df.iloc[[100,200,300],2:5] # w\n",
    "visa_df.iloc[[100,200,300],[2,6,7]] # w\n",
    "visa_df.iloc[100,5] # w\n",
    "visa_df.iloc[100] # w\n",
    "visa_df.iloc[:,5] # w\n",
    "visa_df.iloc[5,:] # w"
   ]
  },
  {
   "cell_type": "code",
   "execution_count": 53,
   "id": "98ca375f-5793-43df-95e7-bd16dde8f8cc",
   "metadata": {},
   "outputs": [
    {
     "data": {
      "text/plain": [
       "education_of_employee    Master's\n",
       "has_job_experience              Y\n",
       "requires_job_training           N\n",
       "Name: 4, dtype: object"
      ]
     },
     "execution_count": 53,
     "metadata": {},
     "output_type": "execute_result"
    }
   ],
   "source": [
    "visa_df.iloc[4,2:5]"
   ]
  },
  {
   "cell_type": "code",
   "execution_count": 55,
   "id": "62c822b7-e3e6-49d3-95bc-6cfbe91ca5bc",
   "metadata": {},
   "outputs": [
    {
     "data": {
      "text/html": [
       "<div>\n",
       "<style scoped>\n",
       "    .dataframe tbody tr th:only-of-type {\n",
       "        vertical-align: middle;\n",
       "    }\n",
       "\n",
       "    .dataframe tbody tr th {\n",
       "        vertical-align: top;\n",
       "    }\n",
       "\n",
       "    .dataframe thead th {\n",
       "        text-align: right;\n",
       "    }\n",
       "</style>\n",
       "<table border=\"1\" class=\"dataframe\">\n",
       "  <thead>\n",
       "    <tr style=\"text-align: right;\">\n",
       "      <th></th>\n",
       "      <th>education_of_employee</th>\n",
       "      <th>yr_of_estab</th>\n",
       "      <th>region_of_employment</th>\n",
       "    </tr>\n",
       "  </thead>\n",
       "  <tbody>\n",
       "    <tr>\n",
       "      <th>1</th>\n",
       "      <td>Master's</td>\n",
       "      <td>2002</td>\n",
       "      <td>Northeast</td>\n",
       "    </tr>\n",
       "    <tr>\n",
       "      <th>2</th>\n",
       "      <td>Bachelor's</td>\n",
       "      <td>2008</td>\n",
       "      <td>West</td>\n",
       "    </tr>\n",
       "    <tr>\n",
       "      <th>3</th>\n",
       "      <td>Bachelor's</td>\n",
       "      <td>1897</td>\n",
       "      <td>West</td>\n",
       "    </tr>\n",
       "    <tr>\n",
       "      <th>4</th>\n",
       "      <td>Master's</td>\n",
       "      <td>2005</td>\n",
       "      <td>South</td>\n",
       "    </tr>\n",
       "  </tbody>\n",
       "</table>\n",
       "</div>"
      ],
      "text/plain": [
       "  education_of_employee  yr_of_estab region_of_employment\n",
       "1              Master's         2002            Northeast\n",
       "2            Bachelor's         2008                 West\n",
       "3            Bachelor's         1897                 West\n",
       "4              Master's         2005                South"
      ]
     },
     "execution_count": 55,
     "metadata": {},
     "output_type": "execute_result"
    }
   ],
   "source": [
    "visa_df.iloc[1:5,[2,6,7]]"
   ]
  },
  {
   "cell_type": "code",
   "execution_count": 57,
   "id": "13420463-c6c5-427e-b2d1-070ed70e0fe2",
   "metadata": {},
   "outputs": [
    {
     "data": {
      "text/html": [
       "<div>\n",
       "<style scoped>\n",
       "    .dataframe tbody tr th:only-of-type {\n",
       "        vertical-align: middle;\n",
       "    }\n",
       "\n",
       "    .dataframe tbody tr th {\n",
       "        vertical-align: top;\n",
       "    }\n",
       "\n",
       "    .dataframe thead th {\n",
       "        text-align: right;\n",
       "    }\n",
       "</style>\n",
       "<table border=\"1\" class=\"dataframe\">\n",
       "  <thead>\n",
       "    <tr style=\"text-align: right;\">\n",
       "      <th></th>\n",
       "      <th>education_of_employee</th>\n",
       "      <th>has_job_experience</th>\n",
       "      <th>requires_job_training</th>\n",
       "    </tr>\n",
       "  </thead>\n",
       "  <tbody>\n",
       "    <tr>\n",
       "      <th>100</th>\n",
       "      <td>Master's</td>\n",
       "      <td>Y</td>\n",
       "      <td>N</td>\n",
       "    </tr>\n",
       "    <tr>\n",
       "      <th>200</th>\n",
       "      <td>Doctorate</td>\n",
       "      <td>Y</td>\n",
       "      <td>N</td>\n",
       "    </tr>\n",
       "    <tr>\n",
       "      <th>300</th>\n",
       "      <td>Master's</td>\n",
       "      <td>Y</td>\n",
       "      <td>N</td>\n",
       "    </tr>\n",
       "  </tbody>\n",
       "</table>\n",
       "</div>"
      ],
      "text/plain": [
       "    education_of_employee has_job_experience requires_job_training\n",
       "100              Master's                  Y                     N\n",
       "200             Doctorate                  Y                     N\n",
       "300              Master's                  Y                     N"
      ]
     },
     "execution_count": 57,
     "metadata": {},
     "output_type": "execute_result"
    }
   ],
   "source": [
    "visa_df.iloc[[100,200,300],2:5]"
   ]
  },
  {
   "cell_type": "code",
   "execution_count": 59,
   "id": "46f43a7d-431c-4ffa-aad3-bcdc2f5640d1",
   "metadata": {},
   "outputs": [
    {
     "data": {
      "text/html": [
       "<div>\n",
       "<style scoped>\n",
       "    .dataframe tbody tr th:only-of-type {\n",
       "        vertical-align: middle;\n",
       "    }\n",
       "\n",
       "    .dataframe tbody tr th {\n",
       "        vertical-align: top;\n",
       "    }\n",
       "\n",
       "    .dataframe thead th {\n",
       "        text-align: right;\n",
       "    }\n",
       "</style>\n",
       "<table border=\"1\" class=\"dataframe\">\n",
       "  <thead>\n",
       "    <tr style=\"text-align: right;\">\n",
       "      <th></th>\n",
       "      <th>education_of_employee</th>\n",
       "      <th>yr_of_estab</th>\n",
       "      <th>region_of_employment</th>\n",
       "    </tr>\n",
       "  </thead>\n",
       "  <tbody>\n",
       "    <tr>\n",
       "      <th>100</th>\n",
       "      <td>Master's</td>\n",
       "      <td>2007</td>\n",
       "      <td>Northeast</td>\n",
       "    </tr>\n",
       "    <tr>\n",
       "      <th>200</th>\n",
       "      <td>Doctorate</td>\n",
       "      <td>1979</td>\n",
       "      <td>West</td>\n",
       "    </tr>\n",
       "    <tr>\n",
       "      <th>300</th>\n",
       "      <td>Master's</td>\n",
       "      <td>2012</td>\n",
       "      <td>Midwest</td>\n",
       "    </tr>\n",
       "  </tbody>\n",
       "</table>\n",
       "</div>"
      ],
      "text/plain": [
       "    education_of_employee  yr_of_estab region_of_employment\n",
       "100              Master's         2007            Northeast\n",
       "200             Doctorate         1979                 West\n",
       "300              Master's         2012              Midwest"
      ]
     },
     "execution_count": 59,
     "metadata": {},
     "output_type": "execute_result"
    }
   ],
   "source": [
    "visa_df.iloc[[100,200,300],[2,6,7]]"
   ]
  },
  {
   "cell_type": "code",
   "execution_count": 61,
   "id": "afe93594-3640-4cdd-b0e6-daddb597a56a",
   "metadata": {},
   "outputs": [
    {
     "data": {
      "text/plain": [
       "case_id                    EZYV101\n",
       "continent                     Asia\n",
       "education_of_employee     Master's\n",
       "has_job_experience               Y\n",
       "requires_job_training            N\n",
       "no_of_employees               2227\n",
       "yr_of_estab                   2007\n",
       "region_of_employment     Northeast\n",
       "prevailing_wage           28243.79\n",
       "unit_of_wage                  Year\n",
       "full_time_position               Y\n",
       "case_status              Certified\n",
       "Name: 100, dtype: object"
      ]
     },
     "execution_count": 61,
     "metadata": {},
     "output_type": "execute_result"
    }
   ],
   "source": [
    "visa_df.iloc[100]"
   ]
  },
  {
   "cell_type": "code",
   "execution_count": 63,
   "id": "ab54c575-9104-47d5-9d91-288b5cfb2a29",
   "metadata": {},
   "outputs": [
    {
     "data": {
      "text/plain": [
       "0        14513\n",
       "1         2412\n",
       "2        44444\n",
       "3           98\n",
       "4         1082\n",
       "         ...  \n",
       "25475     2601\n",
       "25476     3274\n",
       "25477     1121\n",
       "25478     1918\n",
       "25479     3195\n",
       "Name: no_of_employees, Length: 25480, dtype: int64"
      ]
     },
     "execution_count": 63,
     "metadata": {},
     "output_type": "execute_result"
    }
   ],
   "source": [
    "visa_df.iloc[:,5]"
   ]
  },
  {
   "cell_type": "code",
   "execution_count": 65,
   "id": "279cbf6c-c8e7-4909-befa-359e8a64d489",
   "metadata": {},
   "outputs": [
    {
     "data": {
      "text/plain": [
       "case_id                     EZYV06\n",
       "continent                     Asia\n",
       "education_of_employee     Master's\n",
       "has_job_experience               Y\n",
       "requires_job_training            N\n",
       "no_of_employees               2339\n",
       "yr_of_estab                   2012\n",
       "region_of_employment         South\n",
       "prevailing_wage           78252.14\n",
       "unit_of_wage                  Year\n",
       "full_time_position               Y\n",
       "case_status              Certified\n",
       "Name: 5, dtype: object"
      ]
     },
     "execution_count": 65,
     "metadata": {},
     "output_type": "execute_result"
    }
   ],
   "source": [
    "# Selecting a particular columns\n",
    "\n",
    "visa_df.iloc[5,:]"
   ]
  },
  {
   "cell_type": "code",
   "execution_count": 67,
   "id": "e07f2900-077a-4b89-90dd-8a5680560cff",
   "metadata": {},
   "outputs": [
    {
     "data": {
      "text/html": [
       "<div>\n",
       "<style scoped>\n",
       "    .dataframe tbody tr th:only-of-type {\n",
       "        vertical-align: middle;\n",
       "    }\n",
       "\n",
       "    .dataframe tbody tr th {\n",
       "        vertical-align: top;\n",
       "    }\n",
       "\n",
       "    .dataframe thead th {\n",
       "        text-align: right;\n",
       "    }\n",
       "</style>\n",
       "<table border=\"1\" class=\"dataframe\">\n",
       "  <thead>\n",
       "    <tr style=\"text-align: right;\">\n",
       "      <th></th>\n",
       "      <th>no_of_employees</th>\n",
       "    </tr>\n",
       "  </thead>\n",
       "  <tbody>\n",
       "    <tr>\n",
       "      <th>0</th>\n",
       "      <td>14513</td>\n",
       "    </tr>\n",
       "    <tr>\n",
       "      <th>1</th>\n",
       "      <td>2412</td>\n",
       "    </tr>\n",
       "    <tr>\n",
       "      <th>2</th>\n",
       "      <td>44444</td>\n",
       "    </tr>\n",
       "    <tr>\n",
       "      <th>3</th>\n",
       "      <td>98</td>\n",
       "    </tr>\n",
       "    <tr>\n",
       "      <th>4</th>\n",
       "      <td>1082</td>\n",
       "    </tr>\n",
       "    <tr>\n",
       "      <th>...</th>\n",
       "      <td>...</td>\n",
       "    </tr>\n",
       "    <tr>\n",
       "      <th>25475</th>\n",
       "      <td>2601</td>\n",
       "    </tr>\n",
       "    <tr>\n",
       "      <th>25476</th>\n",
       "      <td>3274</td>\n",
       "    </tr>\n",
       "    <tr>\n",
       "      <th>25477</th>\n",
       "      <td>1121</td>\n",
       "    </tr>\n",
       "    <tr>\n",
       "      <th>25478</th>\n",
       "      <td>1918</td>\n",
       "    </tr>\n",
       "    <tr>\n",
       "      <th>25479</th>\n",
       "      <td>3195</td>\n",
       "    </tr>\n",
       "  </tbody>\n",
       "</table>\n",
       "<p>25480 rows × 1 columns</p>\n",
       "</div>"
      ],
      "text/plain": [
       "       no_of_employees\n",
       "0                14513\n",
       "1                 2412\n",
       "2                44444\n",
       "3                   98\n",
       "4                 1082\n",
       "...                ...\n",
       "25475             2601\n",
       "25476             3274\n",
       "25477             1121\n",
       "25478             1918\n",
       "25479             3195\n",
       "\n",
       "[25480 rows x 1 columns]"
      ]
     },
     "execution_count": 67,
     "metadata": {},
     "output_type": "execute_result"
    }
   ],
   "source": [
    "visa_df.iloc[:,[5]]"
   ]
  },
  {
   "cell_type": "code",
   "execution_count": 69,
   "id": "ae4066d3-4b6e-464b-9106-3c7ec68a547e",
   "metadata": {},
   "outputs": [
    {
     "data": {
      "text/html": [
       "<div>\n",
       "<style scoped>\n",
       "    .dataframe tbody tr th:only-of-type {\n",
       "        vertical-align: middle;\n",
       "    }\n",
       "\n",
       "    .dataframe tbody tr th {\n",
       "        vertical-align: top;\n",
       "    }\n",
       "\n",
       "    .dataframe thead th {\n",
       "        text-align: right;\n",
       "    }\n",
       "</style>\n",
       "<table border=\"1\" class=\"dataframe\">\n",
       "  <thead>\n",
       "    <tr style=\"text-align: right;\">\n",
       "      <th></th>\n",
       "      <th>no_of_employees</th>\n",
       "    </tr>\n",
       "  </thead>\n",
       "  <tbody>\n",
       "    <tr>\n",
       "      <th>0</th>\n",
       "      <td>14513</td>\n",
       "    </tr>\n",
       "    <tr>\n",
       "      <th>1</th>\n",
       "      <td>2412</td>\n",
       "    </tr>\n",
       "    <tr>\n",
       "      <th>2</th>\n",
       "      <td>44444</td>\n",
       "    </tr>\n",
       "    <tr>\n",
       "      <th>3</th>\n",
       "      <td>98</td>\n",
       "    </tr>\n",
       "    <tr>\n",
       "      <th>4</th>\n",
       "      <td>1082</td>\n",
       "    </tr>\n",
       "    <tr>\n",
       "      <th>...</th>\n",
       "      <td>...</td>\n",
       "    </tr>\n",
       "    <tr>\n",
       "      <th>25475</th>\n",
       "      <td>2601</td>\n",
       "    </tr>\n",
       "    <tr>\n",
       "      <th>25476</th>\n",
       "      <td>3274</td>\n",
       "    </tr>\n",
       "    <tr>\n",
       "      <th>25477</th>\n",
       "      <td>1121</td>\n",
       "    </tr>\n",
       "    <tr>\n",
       "      <th>25478</th>\n",
       "      <td>1918</td>\n",
       "    </tr>\n",
       "    <tr>\n",
       "      <th>25479</th>\n",
       "      <td>3195</td>\n",
       "    </tr>\n",
       "  </tbody>\n",
       "</table>\n",
       "<p>25480 rows × 1 columns</p>\n",
       "</div>"
      ],
      "text/plain": [
       "       no_of_employees\n",
       "0                14513\n",
       "1                 2412\n",
       "2                44444\n",
       "3                   98\n",
       "4                 1082\n",
       "...                ...\n",
       "25475             2601\n",
       "25476             3274\n",
       "25477             1121\n",
       "25478             1918\n",
       "25479             3195\n",
       "\n",
       "[25480 rows x 1 columns]"
      ]
     },
     "execution_count": 69,
     "metadata": {},
     "output_type": "execute_result"
    }
   ],
   "source": [
    "visa_df.iloc[:,5]  # series\n",
    "visa_df.iloc[:,[5]] # df"
   ]
  },
  {
   "cell_type": "code",
   "execution_count": 73,
   "id": "708cc2b0-8831-4bb9-b211-d1583ba86477",
   "metadata": {},
   "outputs": [
    {
     "data": {
      "text/plain": [
       "0        14513\n",
       "1         2412\n",
       "2        44444\n",
       "3           98\n",
       "4         1082\n",
       "         ...  \n",
       "25475     2601\n",
       "25476     3274\n",
       "25477     1121\n",
       "25478     1918\n",
       "25479     3195\n",
       "Name: no_of_employees, Length: 25480, dtype: int64"
      ]
     },
     "execution_count": 73,
     "metadata": {},
     "output_type": "execute_result"
    }
   ],
   "source": [
    "visa_df.loc[:,'no_of_employees']"
   ]
  },
  {
   "cell_type": "code",
   "execution_count": 9,
   "id": "e19d6f6f-9cec-4794-a6b7-30383ae9914d",
   "metadata": {},
   "outputs": [],
   "source": [
    "import pandas as pd\n",
    "import numpy as np\n",
    "import matplotlib.pyplot as plt\n",
    "import seaborn as sns\n",
    "\n",
    "visa_df=pd.read_csv(r'C:\\Users\\HP\\Documents\\NARESHIT\\visadataset.csv')\n",
    "\n",
    "cat=visa_df.select_dtypes(include='object').columns\n",
    "num=visa_df.select_dtypes(exclude='object').columns"
   ]
  },
  {
   "cell_type": "code",
   "execution_count": 31,
   "id": "4f596beb-2845-4123-ba60-36ed542f1224",
   "metadata": {},
   "outputs": [
    {
     "data": {
      "text/plain": [
       "Index(['case_id', 'continent', 'education_of_employee', 'has_job_experience',\n",
       "       'requires_job_training', 'region_of_employment', 'unit_of_wage',\n",
       "       'full_time_position', 'case_status'],\n",
       "      dtype='object')"
      ]
     },
     "execution_count": 31,
     "metadata": {},
     "output_type": "execute_result"
    }
   ],
   "source": [
    "cat"
   ]
  },
  {
   "cell_type": "markdown",
   "id": "77917a77-fa7b-4e0c-924c-f3abb79fe335",
   "metadata": {},
   "source": [
    "**How to select the columns data**"
   ]
  },
  {
   "cell_type": "code",
   "execution_count": 84,
   "id": "7581b354-8329-4b07-b897-1b3b09687122",
   "metadata": {},
   "outputs": [
    {
     "data": {
      "text/html": [
       "<div>\n",
       "<style scoped>\n",
       "    .dataframe tbody tr th:only-of-type {\n",
       "        vertical-align: middle;\n",
       "    }\n",
       "\n",
       "    .dataframe tbody tr th {\n",
       "        vertical-align: top;\n",
       "    }\n",
       "\n",
       "    .dataframe thead th {\n",
       "        text-align: right;\n",
       "    }\n",
       "</style>\n",
       "<table border=\"1\" class=\"dataframe\">\n",
       "  <thead>\n",
       "    <tr style=\"text-align: right;\">\n",
       "      <th></th>\n",
       "      <th>continent</th>\n",
       "    </tr>\n",
       "  </thead>\n",
       "  <tbody>\n",
       "    <tr>\n",
       "      <th>0</th>\n",
       "      <td>Asia</td>\n",
       "    </tr>\n",
       "    <tr>\n",
       "      <th>1</th>\n",
       "      <td>Asia</td>\n",
       "    </tr>\n",
       "    <tr>\n",
       "      <th>2</th>\n",
       "      <td>Asia</td>\n",
       "    </tr>\n",
       "    <tr>\n",
       "      <th>3</th>\n",
       "      <td>Asia</td>\n",
       "    </tr>\n",
       "    <tr>\n",
       "      <th>4</th>\n",
       "      <td>Africa</td>\n",
       "    </tr>\n",
       "    <tr>\n",
       "      <th>...</th>\n",
       "      <td>...</td>\n",
       "    </tr>\n",
       "    <tr>\n",
       "      <th>25475</th>\n",
       "      <td>Asia</td>\n",
       "    </tr>\n",
       "    <tr>\n",
       "      <th>25476</th>\n",
       "      <td>Asia</td>\n",
       "    </tr>\n",
       "    <tr>\n",
       "      <th>25477</th>\n",
       "      <td>Asia</td>\n",
       "    </tr>\n",
       "    <tr>\n",
       "      <th>25478</th>\n",
       "      <td>Asia</td>\n",
       "    </tr>\n",
       "    <tr>\n",
       "      <th>25479</th>\n",
       "      <td>Asia</td>\n",
       "    </tr>\n",
       "  </tbody>\n",
       "</table>\n",
       "<p>25480 rows × 1 columns</p>\n",
       "</div>"
      ],
      "text/plain": [
       "      continent\n",
       "0          Asia\n",
       "1          Asia\n",
       "2          Asia\n",
       "3          Asia\n",
       "4        Africa\n",
       "...         ...\n",
       "25475      Asia\n",
       "25476      Asia\n",
       "25477      Asia\n",
       "25478      Asia\n",
       "25479      Asia\n",
       "\n",
       "[25480 rows x 1 columns]"
      ]
     },
     "execution_count": 84,
     "metadata": {},
     "output_type": "execute_result"
    }
   ],
   "source": [
    "visa_df.iloc[:,1]\n",
    "visa_df.iloc[:,[1]]"
   ]
  },
  {
   "cell_type": "code",
   "execution_count": 86,
   "id": "71e82726-f745-46e9-9953-dc91af2dfd77",
   "metadata": {},
   "outputs": [
    {
     "data": {
      "text/plain": [
       "0          Asia\n",
       "1          Asia\n",
       "2          Asia\n",
       "3          Asia\n",
       "4        Africa\n",
       "          ...  \n",
       "25475      Asia\n",
       "25476      Asia\n",
       "25477      Asia\n",
       "25478      Asia\n",
       "25479      Asia\n",
       "Name: continent, Length: 25480, dtype: object"
      ]
     },
     "execution_count": 86,
     "metadata": {},
     "output_type": "execute_result"
    }
   ],
   "source": [
    "visa_df.loc[:,'continent']"
   ]
  },
  {
   "cell_type": "code",
   "execution_count": 88,
   "id": "0e11d240-9cda-47d5-8ab5-0e97c2cb790a",
   "metadata": {},
   "outputs": [
    {
     "data": {
      "text/html": [
       "<div>\n",
       "<style scoped>\n",
       "    .dataframe tbody tr th:only-of-type {\n",
       "        vertical-align: middle;\n",
       "    }\n",
       "\n",
       "    .dataframe tbody tr th {\n",
       "        vertical-align: top;\n",
       "    }\n",
       "\n",
       "    .dataframe thead th {\n",
       "        text-align: right;\n",
       "    }\n",
       "</style>\n",
       "<table border=\"1\" class=\"dataframe\">\n",
       "  <thead>\n",
       "    <tr style=\"text-align: right;\">\n",
       "      <th></th>\n",
       "      <th>continent</th>\n",
       "    </tr>\n",
       "  </thead>\n",
       "  <tbody>\n",
       "    <tr>\n",
       "      <th>0</th>\n",
       "      <td>Asia</td>\n",
       "    </tr>\n",
       "    <tr>\n",
       "      <th>1</th>\n",
       "      <td>Asia</td>\n",
       "    </tr>\n",
       "    <tr>\n",
       "      <th>2</th>\n",
       "      <td>Asia</td>\n",
       "    </tr>\n",
       "    <tr>\n",
       "      <th>3</th>\n",
       "      <td>Asia</td>\n",
       "    </tr>\n",
       "    <tr>\n",
       "      <th>4</th>\n",
       "      <td>Africa</td>\n",
       "    </tr>\n",
       "    <tr>\n",
       "      <th>...</th>\n",
       "      <td>...</td>\n",
       "    </tr>\n",
       "    <tr>\n",
       "      <th>25475</th>\n",
       "      <td>Asia</td>\n",
       "    </tr>\n",
       "    <tr>\n",
       "      <th>25476</th>\n",
       "      <td>Asia</td>\n",
       "    </tr>\n",
       "    <tr>\n",
       "      <th>25477</th>\n",
       "      <td>Asia</td>\n",
       "    </tr>\n",
       "    <tr>\n",
       "      <th>25478</th>\n",
       "      <td>Asia</td>\n",
       "    </tr>\n",
       "    <tr>\n",
       "      <th>25479</th>\n",
       "      <td>Asia</td>\n",
       "    </tr>\n",
       "  </tbody>\n",
       "</table>\n",
       "<p>25480 rows × 1 columns</p>\n",
       "</div>"
      ],
      "text/plain": [
       "      continent\n",
       "0          Asia\n",
       "1          Asia\n",
       "2          Asia\n",
       "3          Asia\n",
       "4        Africa\n",
       "...         ...\n",
       "25475      Asia\n",
       "25476      Asia\n",
       "25477      Asia\n",
       "25478      Asia\n",
       "25479      Asia\n",
       "\n",
       "[25480 rows x 1 columns]"
      ]
     },
     "execution_count": 88,
     "metadata": {},
     "output_type": "execute_result"
    }
   ],
   "source": [
    "visa_df.loc[:,['continent']]"
   ]
  },
  {
   "cell_type": "code",
   "execution_count": 90,
   "id": "3ccfc23c-82cb-4f8a-bf32-663f2b7cfee8",
   "metadata": {},
   "outputs": [
    {
     "data": {
      "text/plain": [
       "0          Asia\n",
       "1          Asia\n",
       "2          Asia\n",
       "3          Asia\n",
       "4        Africa\n",
       "          ...  \n",
       "25475      Asia\n",
       "25476      Asia\n",
       "25477      Asia\n",
       "25478      Asia\n",
       "25479      Asia\n",
       "Name: continent, Length: 25480, dtype: object"
      ]
     },
     "execution_count": 90,
     "metadata": {},
     "output_type": "execute_result"
    }
   ],
   "source": [
    "visa_df['continent']"
   ]
  },
  {
   "cell_type": "code",
   "execution_count": 92,
   "id": "cbf4fc66-e484-4b20-be72-dd05ebd6e3ec",
   "metadata": {},
   "outputs": [
    {
     "data": {
      "text/html": [
       "<div>\n",
       "<style scoped>\n",
       "    .dataframe tbody tr th:only-of-type {\n",
       "        vertical-align: middle;\n",
       "    }\n",
       "\n",
       "    .dataframe tbody tr th {\n",
       "        vertical-align: top;\n",
       "    }\n",
       "\n",
       "    .dataframe thead th {\n",
       "        text-align: right;\n",
       "    }\n",
       "</style>\n",
       "<table border=\"1\" class=\"dataframe\">\n",
       "  <thead>\n",
       "    <tr style=\"text-align: right;\">\n",
       "      <th></th>\n",
       "      <th>continent</th>\n",
       "    </tr>\n",
       "  </thead>\n",
       "  <tbody>\n",
       "    <tr>\n",
       "      <th>0</th>\n",
       "      <td>Asia</td>\n",
       "    </tr>\n",
       "    <tr>\n",
       "      <th>1</th>\n",
       "      <td>Asia</td>\n",
       "    </tr>\n",
       "    <tr>\n",
       "      <th>2</th>\n",
       "      <td>Asia</td>\n",
       "    </tr>\n",
       "    <tr>\n",
       "      <th>3</th>\n",
       "      <td>Asia</td>\n",
       "    </tr>\n",
       "    <tr>\n",
       "      <th>4</th>\n",
       "      <td>Africa</td>\n",
       "    </tr>\n",
       "    <tr>\n",
       "      <th>...</th>\n",
       "      <td>...</td>\n",
       "    </tr>\n",
       "    <tr>\n",
       "      <th>25475</th>\n",
       "      <td>Asia</td>\n",
       "    </tr>\n",
       "    <tr>\n",
       "      <th>25476</th>\n",
       "      <td>Asia</td>\n",
       "    </tr>\n",
       "    <tr>\n",
       "      <th>25477</th>\n",
       "      <td>Asia</td>\n",
       "    </tr>\n",
       "    <tr>\n",
       "      <th>25478</th>\n",
       "      <td>Asia</td>\n",
       "    </tr>\n",
       "    <tr>\n",
       "      <th>25479</th>\n",
       "      <td>Asia</td>\n",
       "    </tr>\n",
       "  </tbody>\n",
       "</table>\n",
       "<p>25480 rows × 1 columns</p>\n",
       "</div>"
      ],
      "text/plain": [
       "      continent\n",
       "0          Asia\n",
       "1          Asia\n",
       "2          Asia\n",
       "3          Asia\n",
       "4        Africa\n",
       "...         ...\n",
       "25475      Asia\n",
       "25476      Asia\n",
       "25477      Asia\n",
       "25478      Asia\n",
       "25479      Asia\n",
       "\n",
       "[25480 rows x 1 columns]"
      ]
     },
     "execution_count": 92,
     "metadata": {},
     "output_type": "execute_result"
    }
   ],
   "source": [
    "visa_df[['continent']]"
   ]
  },
  {
   "cell_type": "code",
   "execution_count": null,
   "id": "da1489ae-2864-4aa6-96e0-98c89f405959",
   "metadata": {},
   "outputs": [],
   "source": [
    "visa_df.iloc[:,1]   # Series\n",
    "visa_df.iloc[:,[1]]   # Dataframe\n",
    "visa_df.loc[:,'continent']    # Series\n",
    "visa_df.loc[:,['continent']]    # Dataframe\n",
    "visa_df['continent']        # Series\n",
    "visa_df[['continent']]       # Dataframe"
   ]
  },
  {
   "cell_type": "code",
   "execution_count": 100,
   "id": "98a17276-8ae2-4838-84ee-4c9ea5a65c32",
   "metadata": {},
   "outputs": [
    {
     "data": {
      "text/html": [
       "<div>\n",
       "<style scoped>\n",
       "    .dataframe tbody tr th:only-of-type {\n",
       "        vertical-align: middle;\n",
       "    }\n",
       "\n",
       "    .dataframe tbody tr th {\n",
       "        vertical-align: top;\n",
       "    }\n",
       "\n",
       "    .dataframe thead th {\n",
       "        text-align: right;\n",
       "    }\n",
       "</style>\n",
       "<table border=\"1\" class=\"dataframe\">\n",
       "  <thead>\n",
       "    <tr style=\"text-align: right;\">\n",
       "      <th></th>\n",
       "      <th>continent</th>\n",
       "      <th>case_status</th>\n",
       "    </tr>\n",
       "  </thead>\n",
       "  <tbody>\n",
       "    <tr>\n",
       "      <th>0</th>\n",
       "      <td>Asia</td>\n",
       "      <td>Denied</td>\n",
       "    </tr>\n",
       "    <tr>\n",
       "      <th>1</th>\n",
       "      <td>Asia</td>\n",
       "      <td>Certified</td>\n",
       "    </tr>\n",
       "    <tr>\n",
       "      <th>2</th>\n",
       "      <td>Asia</td>\n",
       "      <td>Denied</td>\n",
       "    </tr>\n",
       "    <tr>\n",
       "      <th>3</th>\n",
       "      <td>Asia</td>\n",
       "      <td>Denied</td>\n",
       "    </tr>\n",
       "    <tr>\n",
       "      <th>4</th>\n",
       "      <td>Africa</td>\n",
       "      <td>Certified</td>\n",
       "    </tr>\n",
       "    <tr>\n",
       "      <th>...</th>\n",
       "      <td>...</td>\n",
       "      <td>...</td>\n",
       "    </tr>\n",
       "    <tr>\n",
       "      <th>25475</th>\n",
       "      <td>Asia</td>\n",
       "      <td>Certified</td>\n",
       "    </tr>\n",
       "    <tr>\n",
       "      <th>25476</th>\n",
       "      <td>Asia</td>\n",
       "      <td>Certified</td>\n",
       "    </tr>\n",
       "    <tr>\n",
       "      <th>25477</th>\n",
       "      <td>Asia</td>\n",
       "      <td>Certified</td>\n",
       "    </tr>\n",
       "    <tr>\n",
       "      <th>25478</th>\n",
       "      <td>Asia</td>\n",
       "      <td>Certified</td>\n",
       "    </tr>\n",
       "    <tr>\n",
       "      <th>25479</th>\n",
       "      <td>Asia</td>\n",
       "      <td>Certified</td>\n",
       "    </tr>\n",
       "  </tbody>\n",
       "</table>\n",
       "<p>25480 rows × 2 columns</p>\n",
       "</div>"
      ],
      "text/plain": [
       "      continent case_status\n",
       "0          Asia      Denied\n",
       "1          Asia   Certified\n",
       "2          Asia      Denied\n",
       "3          Asia      Denied\n",
       "4        Africa   Certified\n",
       "...         ...         ...\n",
       "25475      Asia   Certified\n",
       "25476      Asia   Certified\n",
       "25477      Asia   Certified\n",
       "25478      Asia   Certified\n",
       "25479      Asia   Certified\n",
       "\n",
       "[25480 rows x 2 columns]"
      ]
     },
     "execution_count": 100,
     "metadata": {},
     "output_type": "execute_result"
    }
   ],
   "source": [
    "#visa_df['continent','case_status']        # Works\n",
    "visa_df[['continent','case_status']]      # Fail"
   ]
  }
 ],
 "metadata": {
  "kernelspec": {
   "display_name": "Python [conda env:base] *",
   "language": "python",
   "name": "conda-base-py"
  },
  "language_info": {
   "codemirror_mode": {
    "name": "ipython",
    "version": 3
   },
   "file_extension": ".py",
   "mimetype": "text/x-python",
   "name": "python",
   "nbconvert_exporter": "python",
   "pygments_lexer": "ipython3",
   "version": "3.12.7"
  }
 },
 "nbformat": 4,
 "nbformat_minor": 5
}
